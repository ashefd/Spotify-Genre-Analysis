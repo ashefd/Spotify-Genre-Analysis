{
 "cells": [
  {
   "cell_type": "code",
   "execution_count": 3,
   "metadata": {},
   "outputs": [],
   "source": [
    "import numpy as np\n",
    "import matplotlib.pyplot as plt\n",
    "import matplotlib.cm as cm\n",
    "import pandas as pd\n",
    "plt.ion()"
   ]
  },
  {
   "cell_type": "code",
   "execution_count": 4,
   "metadata": {},
   "outputs": [],
   "source": [
    "# Ouverture du fichier csv\n",
    "name = \".data/SpotifyFeatures.csv\"\n",
    "data = pd.read_csv(name)\n",
    "\n",
    "# Déselection des colonnes inutiles \n",
    "data = data.drop(columns = ['artist_name', 'track_name', 'track_id', 'time_signature']) # les caractéristiques qui ne nous intéressent pas\n",
    "\n",
    "# Compte le nombre de genres de musique (en enlevant \"world\" d'où le -1)\n",
    "K=data.nunique()[0] - 1 \n",
    "\n",
    "# Séparation des données entre les genres \"World\" et le reste\n",
    "data_world = data.loc[data[\"genre\"] == \"World\"]\n",
    "data = data[data.genre != 'World']\n",
    "# data = data[data.genre != 'Movie']\n",
    "# data = data[data.genre != 'Soundtrack']\n",
    "data = data.replace(to_replace=\"Children’s Music\", value = \"Children's Music\")\n",
    "\n",
    "# On remplace les string par un numéro\n",
    "data = data.replace(to_replace=\"Major\", value = 0)\n",
    "data = data.replace(to_replace=\"Minor\", value = 1)\n",
    "data = data.replace(to_replace=\"A\", value = 1)\n",
    "data = data.replace(to_replace=\"A#\", value = 2)\n",
    "data = data.replace(to_replace=\"B\", value = 3)\n",
    "data = data.replace(to_replace=\"C\", value = 4)\n",
    "data = data.replace(to_replace=\"C#\", value = 5)\n",
    "data = data.replace(to_replace=\"D\", value = 6)\n",
    "data = data.replace(to_replace=\"D#\", value = 7)\n",
    "data = data.replace(to_replace=\"E\", value = 8)\n",
    "data = data.replace(to_replace=\"F\", value = 9)\n",
    "data = data.replace(to_replace=\"F#\", value = 10)\n",
    "data = data.replace(to_replace=\"G\", value = 11)\n",
    "data = data.replace(to_replace=\"G#\", value = 12)\n",
    "\n",
    "genres = {\"A Capella\":0, \"Alternative\":1, \"Anime\":2, \"Blues\":3, \"Children's Music\":4, \"Classical\":5, \"Comedy\":6, \"Country\":7, \"Dance\":8, \"Electronic\":9, \"Folk\":10, \"Hip-Hop\":11, \"Indie\":12, \"Jazz\":13, \"Movie\":14, \"Opera\":15, \"Pop\":16, \"R&B\":17, \"Rap\":18, \"Reggae\":19, \"Reggaeton\":20, \"Rock\":21, \"Ska\":22, \"Soul\":23, \"Soundtrack\":24 }\n",
    "data.genre = [genres[s] for s in data.genre]\n",
    "\n",
    "# Mélange les datas (pour ne pas avoir des datas triées par le genre musical)\n",
    "data = data.sample(frac = 1)\n",
    "\n",
    "# Nos données finales\n",
    "y = data[\"genre\"] \n",
    "X = data[data.columns.difference([\"genre\"])]\n",
    "\n",
    "DimRepre = X.shape[1]"
   ]
  },
  {
   "cell_type": "code",
   "execution_count": 82,
   "metadata": {},
   "outputs": [
    {
     "data": {
      "text/html": [
       "<div>\n",
       "<style scoped>\n",
       "    .dataframe tbody tr th:only-of-type {\n",
       "        vertical-align: middle;\n",
       "    }\n",
       "\n",
       "    .dataframe tbody tr th {\n",
       "        vertical-align: top;\n",
       "    }\n",
       "\n",
       "    .dataframe thead th {\n",
       "        text-align: right;\n",
       "    }\n",
       "</style>\n",
       "<table border=\"1\" class=\"dataframe\">\n",
       "  <thead>\n",
       "    <tr style=\"text-align: right;\">\n",
       "      <th></th>\n",
       "      <th>acousticness</th>\n",
       "      <th>danceability</th>\n",
       "      <th>duration_ms</th>\n",
       "      <th>energy</th>\n",
       "      <th>instrumentalness</th>\n",
       "      <th>key</th>\n",
       "      <th>liveness</th>\n",
       "      <th>loudness</th>\n",
       "      <th>mode</th>\n",
       "      <th>popularity</th>\n",
       "      <th>speechiness</th>\n",
       "      <th>tempo</th>\n",
       "      <th>valence</th>\n",
       "    </tr>\n",
       "  </thead>\n",
       "  <tbody>\n",
       "    <tr>\n",
       "      <th>200874</th>\n",
       "      <td>1.0</td>\n",
       "      <td>0.0</td>\n",
       "      <td>0.0</td>\n",
       "      <td>0.0</td>\n",
       "      <td>1.0</td>\n",
       "      <td>0.0</td>\n",
       "      <td>0.0</td>\n",
       "      <td>0.0</td>\n",
       "      <td>1.0</td>\n",
       "      <td>0.0</td>\n",
       "      <td>0.0</td>\n",
       "      <td>0.0</td>\n",
       "      <td>0.0</td>\n",
       "    </tr>\n",
       "    <tr>\n",
       "      <th>142460</th>\n",
       "      <td>0.0</td>\n",
       "      <td>1.0</td>\n",
       "      <td>0.0</td>\n",
       "      <td>1.0</td>\n",
       "      <td>0.0</td>\n",
       "      <td>1.0</td>\n",
       "      <td>0.0</td>\n",
       "      <td>0.0</td>\n",
       "      <td>0.0</td>\n",
       "      <td>1.0</td>\n",
       "      <td>0.0</td>\n",
       "      <td>0.0</td>\n",
       "      <td>0.0</td>\n",
       "    </tr>\n",
       "    <tr>\n",
       "      <th>204348</th>\n",
       "      <td>1.0</td>\n",
       "      <td>0.0</td>\n",
       "      <td>0.0</td>\n",
       "      <td>0.0</td>\n",
       "      <td>0.0</td>\n",
       "      <td>0.0</td>\n",
       "      <td>0.0</td>\n",
       "      <td>0.0</td>\n",
       "      <td>0.0</td>\n",
       "      <td>0.0</td>\n",
       "      <td>0.0</td>\n",
       "      <td>0.0</td>\n",
       "      <td>0.0</td>\n",
       "    </tr>\n",
       "    <tr>\n",
       "      <th>211938</th>\n",
       "      <td>1.0</td>\n",
       "      <td>1.0</td>\n",
       "      <td>0.0</td>\n",
       "      <td>0.0</td>\n",
       "      <td>0.0</td>\n",
       "      <td>0.0</td>\n",
       "      <td>1.0</td>\n",
       "      <td>0.0</td>\n",
       "      <td>0.0</td>\n",
       "      <td>0.0</td>\n",
       "      <td>1.0</td>\n",
       "      <td>0.0</td>\n",
       "      <td>1.0</td>\n",
       "    </tr>\n",
       "    <tr>\n",
       "      <th>216121</th>\n",
       "      <td>0.0</td>\n",
       "      <td>1.0</td>\n",
       "      <td>0.0</td>\n",
       "      <td>1.0</td>\n",
       "      <td>0.0</td>\n",
       "      <td>0.0</td>\n",
       "      <td>0.0</td>\n",
       "      <td>0.0</td>\n",
       "      <td>0.0</td>\n",
       "      <td>0.0</td>\n",
       "      <td>0.0</td>\n",
       "      <td>1.0</td>\n",
       "      <td>1.0</td>\n",
       "    </tr>\n",
       "    <tr>\n",
       "      <th>...</th>\n",
       "      <td>...</td>\n",
       "      <td>...</td>\n",
       "      <td>...</td>\n",
       "      <td>...</td>\n",
       "      <td>...</td>\n",
       "      <td>...</td>\n",
       "      <td>...</td>\n",
       "      <td>...</td>\n",
       "      <td>...</td>\n",
       "      <td>...</td>\n",
       "      <td>...</td>\n",
       "      <td>...</td>\n",
       "      <td>...</td>\n",
       "    </tr>\n",
       "    <tr>\n",
       "      <th>153182</th>\n",
       "      <td>0.0</td>\n",
       "      <td>1.0</td>\n",
       "      <td>0.0</td>\n",
       "      <td>1.0</td>\n",
       "      <td>0.0</td>\n",
       "      <td>1.0</td>\n",
       "      <td>0.0</td>\n",
       "      <td>0.0</td>\n",
       "      <td>0.0</td>\n",
       "      <td>1.0</td>\n",
       "      <td>0.0</td>\n",
       "      <td>1.0</td>\n",
       "      <td>0.0</td>\n",
       "    </tr>\n",
       "    <tr>\n",
       "      <th>223766</th>\n",
       "      <td>1.0</td>\n",
       "      <td>0.0</td>\n",
       "      <td>0.0</td>\n",
       "      <td>0.0</td>\n",
       "      <td>0.0</td>\n",
       "      <td>1.0</td>\n",
       "      <td>0.0</td>\n",
       "      <td>0.0</td>\n",
       "      <td>0.0</td>\n",
       "      <td>1.0</td>\n",
       "      <td>0.0</td>\n",
       "      <td>1.0</td>\n",
       "      <td>0.0</td>\n",
       "    </tr>\n",
       "    <tr>\n",
       "      <th>87939</th>\n",
       "      <td>0.0</td>\n",
       "      <td>1.0</td>\n",
       "      <td>0.0</td>\n",
       "      <td>1.0</td>\n",
       "      <td>0.0</td>\n",
       "      <td>1.0</td>\n",
       "      <td>0.0</td>\n",
       "      <td>0.0</td>\n",
       "      <td>0.0</td>\n",
       "      <td>1.0</td>\n",
       "      <td>0.0</td>\n",
       "      <td>1.0</td>\n",
       "      <td>0.0</td>\n",
       "    </tr>\n",
       "    <tr>\n",
       "      <th>134582</th>\n",
       "      <td>0.0</td>\n",
       "      <td>1.0</td>\n",
       "      <td>0.0</td>\n",
       "      <td>1.0</td>\n",
       "      <td>0.0</td>\n",
       "      <td>1.0</td>\n",
       "      <td>1.0</td>\n",
       "      <td>0.0</td>\n",
       "      <td>0.0</td>\n",
       "      <td>0.0</td>\n",
       "      <td>0.0</td>\n",
       "      <td>1.0</td>\n",
       "      <td>1.0</td>\n",
       "    </tr>\n",
       "    <tr>\n",
       "      <th>17050</th>\n",
       "      <td>1.0</td>\n",
       "      <td>1.0</td>\n",
       "      <td>0.0</td>\n",
       "      <td>0.0</td>\n",
       "      <td>0.0</td>\n",
       "      <td>0.0</td>\n",
       "      <td>0.0</td>\n",
       "      <td>0.0</td>\n",
       "      <td>0.0</td>\n",
       "      <td>1.0</td>\n",
       "      <td>0.0</td>\n",
       "      <td>0.0</td>\n",
       "      <td>1.0</td>\n",
       "    </tr>\n",
       "  </tbody>\n",
       "</table>\n",
       "<p>223629 rows × 13 columns</p>\n",
       "</div>"
      ],
      "text/plain": [
       "        acousticness  danceability  duration_ms  energy  instrumentalness  \\\n",
       "200874           1.0           0.0          0.0     0.0               1.0   \n",
       "142460           0.0           1.0          0.0     1.0               0.0   \n",
       "204348           1.0           0.0          0.0     0.0               0.0   \n",
       "211938           1.0           1.0          0.0     0.0               0.0   \n",
       "216121           0.0           1.0          0.0     1.0               0.0   \n",
       "...              ...           ...          ...     ...               ...   \n",
       "153182           0.0           1.0          0.0     1.0               0.0   \n",
       "223766           1.0           0.0          0.0     0.0               0.0   \n",
       "87939            0.0           1.0          0.0     1.0               0.0   \n",
       "134582           0.0           1.0          0.0     1.0               0.0   \n",
       "17050            1.0           1.0          0.0     0.0               0.0   \n",
       "\n",
       "        key  liveness  loudness  mode  popularity  speechiness  tempo  valence  \n",
       "200874  0.0       0.0       0.0   1.0         0.0          0.0    0.0      0.0  \n",
       "142460  1.0       0.0       0.0   0.0         1.0          0.0    0.0      0.0  \n",
       "204348  0.0       0.0       0.0   0.0         0.0          0.0    0.0      0.0  \n",
       "211938  0.0       1.0       0.0   0.0         0.0          1.0    0.0      1.0  \n",
       "216121  0.0       0.0       0.0   0.0         0.0          0.0    1.0      1.0  \n",
       "...     ...       ...       ...   ...         ...          ...    ...      ...  \n",
       "153182  1.0       0.0       0.0   0.0         1.0          0.0    1.0      0.0  \n",
       "223766  1.0       0.0       0.0   0.0         1.0          0.0    1.0      0.0  \n",
       "87939   1.0       0.0       0.0   0.0         1.0          0.0    1.0      0.0  \n",
       "134582  1.0       1.0       0.0   0.0         0.0          0.0    1.0      1.0  \n",
       "17050   0.0       0.0       0.0   0.0         1.0          0.0    0.0      1.0  \n",
       "\n",
       "[223629 rows x 13 columns]"
      ]
     },
     "execution_count": 82,
     "metadata": {},
     "output_type": "execute_result"
    }
   ],
   "source": [
    "#Normaliser les valeurs (entre 0 et 1)\n",
    "\n",
    "X[\"duration_ms\"] /= X[\"duration_ms\"].max()\n",
    "X[\"loudness\"] /= X[\"loudness\"].max()\n",
    "X[\"popularity\"] /= X[\"popularity\"].max()\n",
    "X[\"tempo\"] /= X[\"tempo\"].max()\n",
    "X[\"key\"] /= X[\"key\"].max()\n",
    "\n",
    "# On binarise les valeurs de X\n",
    "X = (X>=0.5)*1.0\n",
    "X"
   ]
  },
  {
   "cell_type": "code",
   "execution_count": 83,
   "metadata": {},
   "outputs": [],
   "source": [
    "## l'algo d'apprentissage ##\n",
    "def BayesienNaif_fit(X,y):\n",
    "\n",
    "    N = X.shape[0] # Le nombre de datas\n",
    "    D = X.shape[1] # Le nombre de caractéristiques \n",
    "    \n",
    "    ## On crée nos matrices\n",
    "    pkd = np.empty((K, D))\n",
    "    Pk = np.zeros(K)\n",
    "       \n",
    "    # On met les données sous forme numpy\n",
    "    X = X.to_numpy()\n",
    "    y = np.array(y)\n",
    "    \n",
    "    # On remplit pkd, Pk\n",
    "    # y == k # indices des images dont la classe est k\n",
    "    # X[y==k] # image dont la classe est k\n",
    "    \n",
    "    for k in range (0, K):\n",
    "        numerateur = np.sum(X[y==k], axis = 0) # objet de shape D\n",
    "        denominateur = (y==k).sum() # décompte du nombre d'occurences de la classe k\n",
    "        pkd[k,:] = numerateur[:] / denominateur # vecteur de taille D\n",
    "        Pk[k] = denominateur\n",
    "    ## devrait retourner les parametres du modele (appris)\n",
    "    return pkd, Pk\n",
    "\n",
    "# ## la fonction de dećision (a parametres fixés) ##\n",
    "# def BayesienNaif_predict(X,pkd, Pk):\n",
    "#     ypred = np.zeros(X.shape[0]) # vecteur de ce que l'on prédit\n",
    "    \n",
    "#     kEtoile = 0\n",
    "#     probaKmax = 0\n",
    "#     X = X.to_numpy()\n",
    "    \n",
    "#     for n in range (0, X.shape[0]) : # Le nombre de datas\n",
    "#         probaKmax = 0\n",
    "#         for d in range (0, X.shape[1]) : # Le nombre de caractéristiques \n",
    "#             for k in range (0, K) : \n",
    "#                 kEtoile = 1\n",
    "#                 kEtoile = X[n,d]*np.log(pkd[k, d] + 10**(-8))+(1-X[n,d])*np.log(1-pkd[k,d]+10**(-8))*np.log(Pk[k]/X.shape[0])\n",
    "#                 if(probaKmax < kEtoile) :\n",
    "#                     ypred[n] = k\n",
    "#                     probaKmax = kEtoile\n",
    "#     return ypred # devrait retourner les labels des images"
   ]
  },
  {
   "cell_type": "code",
   "execution_count": 84,
   "metadata": {},
   "outputs": [
    {
     "name": "stdout",
     "output_type": "stream",
     "text": [
      "X.shape (223629, 13)\n"
     ]
    }
   ],
   "source": [
    "## separation train/test (ici, il n'y a pas d'hyperparametres, pratiquement, donc on ne fait pas de validation)\n",
    "## quoique... il y en a au moins un, lequel ?\n",
    "## TODO:\n",
    "Ntot   = X.shape[0]     #Ntotal\n",
    "Ntrain = int(0.70*Ntot)\n",
    "Ntest  = int(0.30*Ntot)\n",
    "\n",
    "X_train = X[0: Ntrain]\n",
    "X_test  = X[Ntrain:Ntot] # X[-Ntest:] est equivalent\n",
    "y_train = y[0:Ntrain]\n",
    "y_test  = y[Ntrain:Ntot]\n",
    "\n",
    "print(\"X.shape\", X.shape)"
   ]
  },
  {
   "cell_type": "code",
   "execution_count": 85,
   "metadata": {},
   "outputs": [],
   "source": [
    "theta_etoile = BayesienNaif_fit(X=X_train,y=y_train)"
   ]
  },
  {
   "cell_type": "code",
   "execution_count": 86,
   "metadata": {},
   "outputs": [
    {
     "data": {
      "text/plain": [
       "(26, 13)"
      ]
     },
     "execution_count": 86,
     "metadata": {},
     "output_type": "execute_result"
    }
   ],
   "source": [
    "pkd, Pk = theta_etoile\n",
    "pkd.shape"
   ]
  },
  {
   "cell_type": "code",
   "execution_count": 87,
   "metadata": {},
   "outputs": [],
   "source": [
    "for k in range (K):\n",
    "    np.dot(X,np.log(pkd[k]+1e-8))\n",
    "    np.dot(1-X,np.log(1-pkd[k]+1e-8))"
   ]
  },
  {
   "cell_type": "code",
   "execution_count": 88,
   "metadata": {},
   "outputs": [],
   "source": [
    "## la fonction de dećision (a parametres fixés) ##\n",
    "def BayesienNaif_predict(X,pkd, Pk):\n",
    "    Xtest = X\n",
    "    Ntest = X.shape[0]\n",
    "    ypreds = np.zeros((K, Ntest)) # variable temporaire\n",
    "    for k in range (K):\n",
    "        ypreds[k] = np.dot(X,np.log(pkd[k]+1e-8))\\\n",
    "                + np.dot(1-X,np.log(1-pkd[k]+1e-8))\\\n",
    "                + np.log(Pk[k])\n",
    "        \n",
    "        \n",
    "    ## on a ainsi fait les sommes sur l'indice d=1...D implicitement,\n",
    "    ## en calculant le produit scalaire entre deux vecteurs\n",
    "    ## ou plutot entre une liste de vecteurs, X , de taille (Ntest,D)\n",
    "    ## et le vecteur log(pkd[k]+...), qui est de taille D.\n",
    "    \n",
    "    ## on cherche maintenant le k qui donne le max, pour chaque image de l'ensemble de test.\n",
    "    ypred = np.zeros(Ntest)\n",
    "    for n in range(Ntest):\n",
    "        ypred[n] = np.argmax(ypreds[:,n])\n",
    "    \n",
    "    ## formulation équivalente, plus directe:\n",
    "    #ypred2 = np.argmax(ypreds, axis=0)\n",
    "    \n",
    "    ## on peut vérifier que les 2 facon de faire sont égales:\n",
    "    #assert(np.array_equal(ypred, ypred2))\n",
    "    \n",
    "    return ypred # devrait retourner les labels des images"
   ]
  },
  {
   "cell_type": "code",
   "execution_count": 89,
   "metadata": {},
   "outputs": [
    {
     "data": {
      "text/plain": [
       "array([20.,  6., 12., 15.,  4., 11., 21.,  8., 21., 20., 18.,  2., 22.,\n",
       "        8., 10., 20., 15., 22., 21., 18.])"
      ]
     },
     "execution_count": 89,
     "metadata": {},
     "output_type": "execute_result"
    }
   ],
   "source": [
    "ypred_test = BayesienNaif_predict(X_test, pkd, Pk)\n",
    "ypred_test[:20]"
   ]
  },
  {
   "cell_type": "code",
   "execution_count": 90,
   "metadata": {},
   "outputs": [
    {
     "data": {
      "text/plain": [
       "array([ 17., -16.,   4.,  -8.,   1.,   4.,  11., -13.,   0.,   1.,   2.,\n",
       "        -7.,  21., -14.,  -9.,   6.,  10.,  12.,   9.,  10.])"
      ]
     },
     "execution_count": 90,
     "metadata": {},
     "output_type": "execute_result"
    }
   ],
   "source": [
    "## on compare la verite terrain et la prediction :\n",
    "(ypred_test - y_test)[:20] # sur 20 exemples"
   ]
  },
  {
   "cell_type": "code",
   "execution_count": 91,
   "metadata": {},
   "outputs": [
    {
     "data": {
      "text/plain": [
       "0.7507042883334079"
      ]
     },
     "execution_count": 91,
     "metadata": {},
     "output_type": "execute_result"
    }
   ],
   "source": [
    "taux_erreur_test = (ypred_test - y_test != 0 ).mean()\n",
    "taux_erreur_test"
   ]
  },
  {
   "cell_type": "code",
   "execution_count": 92,
   "metadata": {},
   "outputs": [
    {
     "data": {
      "text/plain": [
       "0.7512329117158554"
      ]
     },
     "execution_count": 92,
     "metadata": {},
     "output_type": "execute_result"
    }
   ],
   "source": [
    "taux_erreur_train = ( (BayesienNaif_predict(X_train, pkd, Pk)- y_train) != 0 ).mean()\n",
    "taux_erreur_train"
   ]
  },
  {
   "cell_type": "code",
   "execution_count": 93,
   "metadata": {},
   "outputs": [
    {
     "name": "stdout",
     "output_type": "stream",
     "text": [
      "accuracy 0.24929571166659215\n",
      "[[   0    0    0    0    0    0    0    0    0    0    0    0    0    0\n",
      "     0    0    0    0    0    0    0    0    0    0    0    0]\n",
      " [   0    0    0    0    0    0    0    0    0    0    0    0    0    0\n",
      "     0    0    0    0    0    0    0    0    0    0    0    0]\n",
      " [   0  337  532  297    8  116    6  162   52  307  149   12  114  170\n",
      "    82    6    1   85    3   49   21   11  354  134  181  180]\n",
      " [   0   10    9   71   22    1   12   23    0    6   32    2   10   36\n",
      "    67    7    0   11    0    7    9    3   19   33    3    6]\n",
      " [   8   41   55  324  715   40   59  145    4   23  157    6   36  229\n",
      "   362   14    1   59    3  238   82    6  113  158   20   15]\n",
      " [   0    2   17    7    9  144    0    0    0    4    8    0    1   26\n",
      "    13   47    1    0    1    0    0    0    0    7   44    1]\n",
      " [   0    8    0   26   56    6 2629    7    0   14    9    6    3   17\n",
      "   140   13    0    9    0   11    7    1   11   12    1    4]\n",
      " [   0   75   47   55   12    7    4  124   20   57   47   21   29   25\n",
      "    13    1    0   64    6   59   69    1   33   73    2   30]\n",
      " [   0   66    0   12    0    0    0   87  161   15   60  124   92   29\n",
      "     1    0  168   71  125   22   54  170   15   34    0   90]\n",
      " [   0  282  325  166   51   39    6  242  166 1299   97  113  144  387\n",
      "    60    0   23  224   45  260  297   36  195  291   50  154]\n",
      " [   0   89   11   47    5   20    3  132   79    8  476   47  494  143\n",
      "    43    3  254  165   62   14    4  232    9  170   29  165]\n",
      " [   0  162    6   25    0    0    1  143  477   38  111  530  248   34\n",
      "     0    0  504  213  504   83  189  454   42  112    0  280]\n",
      " [   0   77    0   12    0    0    0   43   91   12  102  125  181   32\n",
      "     3    0  166  160  137    7    9  138    0  111    7  121]\n",
      " [   1   31   67   75   99   41    2    9    7  134   73   14   61  412\n",
      "    81   18   12   46    8   48   28   19   29  100   68   24]\n",
      " [   5   63   61  172  178   81   46  158   16   20  216   13   48  205\n",
      "   306  137    0  106    3   53   24    6   13  178   28   30]\n",
      " [  24   45  126  108   65  647   14   75    1   18  246    1   70  193\n",
      "   581 1706    0   67    0    8    0    4    7  116  201   21]\n",
      " [   0  104    0   23    0    1    1   84  217   17  108  288  221   34\n",
      "     3    0  313  174  288   33   50  198    9  106    0  172]\n",
      " [   0   40    1   10    3    0    0    8   53    5   30  105   63   22\n",
      "     2    0   63   98   80    9   14   31    2   82    0   55]\n",
      " [   0  273   11   18    0    1    0  134  642  103  126 1007  392   33\n",
      "     0    0  864  429 1093   61  156  437   13  207    1  416]\n",
      " [   1   67  123  115  121    0    6  192   33   68   52   15   25   61\n",
      "    61    0    0   58    7  328  138    9  217   83    4   25]\n",
      " [   2  211  337  450  156    7   19  371  125  285  148   73  124  300\n",
      "   140    0    3  239   19 1016 1268   17  571  352    2  109]\n",
      " [   0  346   15   56    0    4    0  190  317   57  208  205  322   29\n",
      "     4    0  370  110  264   45   44  773   37   61    4  559]\n",
      " [   1  219  432  546   57   23   13  238   52  155  149   34   77   83\n",
      "   118    0    6   65   11  273  231   18  965  108    3   92]\n",
      " [   0   52   12   42   21    1    3   57   23   35   50   24   35   47\n",
      "    22    0    7   93   12   43   40   13   11  132    3   12]\n",
      " [   0   18  459   31   71 1576    0    3    8  101   79    1   46  303\n",
      "   305  521    8   13    0    4    0   21    1   35 2287   14]\n",
      " [   0  127    5   15    0    0    0    4   69   28   27   56   65    3\n",
      "     1    0   68   46  101    2    1  156    4   14    5  182]]\n"
     ]
    },
    {
     "data": {
      "text/plain": [
       "<matplotlib.colorbar.Colorbar at 0x189311a8>"
      ]
     },
     "execution_count": 93,
     "metadata": {},
     "output_type": "execute_result"
    },
    {
     "data": {
      "image/png": "[encoded data removed]",
      "text/plain": [
       "<Figure size 432x288 with 2 Axes>"
      ]
     },
     "metadata": {
      "needs_background": "light"
     },
     "output_type": "display_data"
    }
   ],
   "source": [
    "import sklearn.metrics\n",
    "print(\"accuracy\", sklearn.metrics.accuracy_score(ypred_test, y_test))\n",
    "confmat = sklearn.metrics.confusion_matrix(ypred_test, y_test)\n",
    "print(confmat)\n",
    "plt.imshow(confmat) ## imshow plutot que contourf, pour ne pas lisser les valeurs.\n",
    "plt.colorbar() ## pour montrer l'échelle, sur la droite"
   ]
  },
  {
   "cell_type": "code",
   "execution_count": null,
   "metadata": {},
   "outputs": [],
   "source": []
  },
  {
   "cell_type": "code",
   "execution_count": null,
   "metadata": {},
   "outputs": [],
   "source": []
  }
 ],
 "metadata": {
  "kernelspec": {
   "display_name": "Python 3",
   "language": "python",
   "name": "python3"
  },
  "language_info": {
   "codemirror_mode": {
    "name": "ipython",
    "version": 3
   },
   "file_extension": ".py",
   "mimetype": "text/x-python",
   "name": "python",
   "nbconvert_exporter": "python",
   "pygments_lexer": "ipython3",
   "version": "3.8.1"
  }
 },
 "nbformat": 4,
 "nbformat_minor": 4
}
