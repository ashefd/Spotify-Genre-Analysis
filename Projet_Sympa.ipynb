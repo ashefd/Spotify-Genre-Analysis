{
 "cells": [
  {
   "cell_type": "markdown",
   "metadata": {},
   "source": [
    "# Projet de Machine Learning\n",
    "## Modèle de classificateur de musiques en fonction de leur genre musical\n",
    "### CABRERA Cyril | LOK Tshanon\n",
    "### ET4 Groupe 1"
   ]
  },
  {
   "cell_type": "code",
   "execution_count": 1,
   "metadata": {},
   "outputs": [],
   "source": [
    "import numpy as np\n",
    "import matplotlib.pyplot as plt\n",
    "import matplotlib.cm as cm\n",
    "import pandas as pd\n",
    "from sklearn.decomposition import PCA\n",
    "from sklearn.svm import SVC\n",
    "\n",
    "plt.ion()"
   ]
  },
  {
   "cell_type": "markdown",
   "metadata": {},
   "source": [
    "# Nos données"
   ]
  },
  {
   "cell_type": "code",
   "execution_count": 2,
   "metadata": {
    "scrolled": true
   },
   "outputs": [
    {
     "data": {
      "text/html": [
       "<div>\n",
       "<style scoped>\n",
       "    .dataframe tbody tr th:only-of-type {\n",
       "        vertical-align: middle;\n",
       "    }\n",
       "\n",
       "    .dataframe tbody tr th {\n",
       "        vertical-align: top;\n",
       "    }\n",
       "\n",
       "    .dataframe thead th {\n",
       "        text-align: right;\n",
       "    }\n",
       "</style>\n",
       "<table border=\"1\" class=\"dataframe\">\n",
       "  <thead>\n",
       "    <tr style=\"text-align: right;\">\n",
       "      <th></th>\n",
       "      <th>genre</th>\n",
       "      <th>popularity</th>\n",
       "      <th>acousticness</th>\n",
       "      <th>danceability</th>\n",
       "      <th>duration_ms</th>\n",
       "      <th>energy</th>\n",
       "      <th>instrumentalness</th>\n",
       "      <th>key</th>\n",
       "      <th>liveness</th>\n",
       "      <th>loudness</th>\n",
       "      <th>mode</th>\n",
       "      <th>speechiness</th>\n",
       "      <th>tempo</th>\n",
       "      <th>valence</th>\n",
       "    </tr>\n",
       "  </thead>\n",
       "  <tbody>\n",
       "    <tr>\n",
       "      <th>0</th>\n",
       "      <td>Movie</td>\n",
       "      <td>0</td>\n",
       "      <td>0.61100</td>\n",
       "      <td>0.389</td>\n",
       "      <td>99373</td>\n",
       "      <td>0.910</td>\n",
       "      <td>0.000000</td>\n",
       "      <td>C#</td>\n",
       "      <td>0.3460</td>\n",
       "      <td>-1.828</td>\n",
       "      <td>Major</td>\n",
       "      <td>0.0525</td>\n",
       "      <td>166.969</td>\n",
       "      <td>0.814</td>\n",
       "    </tr>\n",
       "    <tr>\n",
       "      <th>1</th>\n",
       "      <td>Movie</td>\n",
       "      <td>1</td>\n",
       "      <td>0.24600</td>\n",
       "      <td>0.590</td>\n",
       "      <td>137373</td>\n",
       "      <td>0.737</td>\n",
       "      <td>0.000000</td>\n",
       "      <td>F#</td>\n",
       "      <td>0.1510</td>\n",
       "      <td>-5.559</td>\n",
       "      <td>Minor</td>\n",
       "      <td>0.0868</td>\n",
       "      <td>174.003</td>\n",
       "      <td>0.816</td>\n",
       "    </tr>\n",
       "    <tr>\n",
       "      <th>2</th>\n",
       "      <td>Movie</td>\n",
       "      <td>3</td>\n",
       "      <td>0.95200</td>\n",
       "      <td>0.663</td>\n",
       "      <td>170267</td>\n",
       "      <td>0.131</td>\n",
       "      <td>0.000000</td>\n",
       "      <td>C</td>\n",
       "      <td>0.1030</td>\n",
       "      <td>-13.879</td>\n",
       "      <td>Minor</td>\n",
       "      <td>0.0362</td>\n",
       "      <td>99.488</td>\n",
       "      <td>0.368</td>\n",
       "    </tr>\n",
       "    <tr>\n",
       "      <th>3</th>\n",
       "      <td>Movie</td>\n",
       "      <td>0</td>\n",
       "      <td>0.70300</td>\n",
       "      <td>0.240</td>\n",
       "      <td>152427</td>\n",
       "      <td>0.326</td>\n",
       "      <td>0.000000</td>\n",
       "      <td>C#</td>\n",
       "      <td>0.0985</td>\n",
       "      <td>-12.178</td>\n",
       "      <td>Major</td>\n",
       "      <td>0.0395</td>\n",
       "      <td>171.758</td>\n",
       "      <td>0.227</td>\n",
       "    </tr>\n",
       "    <tr>\n",
       "      <th>4</th>\n",
       "      <td>Movie</td>\n",
       "      <td>4</td>\n",
       "      <td>0.95000</td>\n",
       "      <td>0.331</td>\n",
       "      <td>82625</td>\n",
       "      <td>0.225</td>\n",
       "      <td>0.123000</td>\n",
       "      <td>F</td>\n",
       "      <td>0.2020</td>\n",
       "      <td>-21.150</td>\n",
       "      <td>Major</td>\n",
       "      <td>0.0456</td>\n",
       "      <td>140.576</td>\n",
       "      <td>0.390</td>\n",
       "    </tr>\n",
       "    <tr>\n",
       "      <th>...</th>\n",
       "      <td>...</td>\n",
       "      <td>...</td>\n",
       "      <td>...</td>\n",
       "      <td>...</td>\n",
       "      <td>...</td>\n",
       "      <td>...</td>\n",
       "      <td>...</td>\n",
       "      <td>...</td>\n",
       "      <td>...</td>\n",
       "      <td>...</td>\n",
       "      <td>...</td>\n",
       "      <td>...</td>\n",
       "      <td>...</td>\n",
       "      <td>...</td>\n",
       "    </tr>\n",
       "    <tr>\n",
       "      <th>232720</th>\n",
       "      <td>Soul</td>\n",
       "      <td>39</td>\n",
       "      <td>0.00384</td>\n",
       "      <td>0.687</td>\n",
       "      <td>326240</td>\n",
       "      <td>0.714</td>\n",
       "      <td>0.544000</td>\n",
       "      <td>D</td>\n",
       "      <td>0.0845</td>\n",
       "      <td>-10.626</td>\n",
       "      <td>Major</td>\n",
       "      <td>0.0316</td>\n",
       "      <td>115.542</td>\n",
       "      <td>0.962</td>\n",
       "    </tr>\n",
       "    <tr>\n",
       "      <th>232721</th>\n",
       "      <td>Soul</td>\n",
       "      <td>38</td>\n",
       "      <td>0.03290</td>\n",
       "      <td>0.785</td>\n",
       "      <td>282447</td>\n",
       "      <td>0.683</td>\n",
       "      <td>0.000880</td>\n",
       "      <td>E</td>\n",
       "      <td>0.2370</td>\n",
       "      <td>-6.944</td>\n",
       "      <td>Minor</td>\n",
       "      <td>0.0337</td>\n",
       "      <td>113.830</td>\n",
       "      <td>0.969</td>\n",
       "    </tr>\n",
       "    <tr>\n",
       "      <th>232722</th>\n",
       "      <td>Soul</td>\n",
       "      <td>47</td>\n",
       "      <td>0.90100</td>\n",
       "      <td>0.517</td>\n",
       "      <td>166960</td>\n",
       "      <td>0.419</td>\n",
       "      <td>0.000000</td>\n",
       "      <td>D</td>\n",
       "      <td>0.0945</td>\n",
       "      <td>-8.282</td>\n",
       "      <td>Major</td>\n",
       "      <td>0.1480</td>\n",
       "      <td>84.135</td>\n",
       "      <td>0.813</td>\n",
       "    </tr>\n",
       "    <tr>\n",
       "      <th>232723</th>\n",
       "      <td>Soul</td>\n",
       "      <td>44</td>\n",
       "      <td>0.26200</td>\n",
       "      <td>0.745</td>\n",
       "      <td>222442</td>\n",
       "      <td>0.704</td>\n",
       "      <td>0.000000</td>\n",
       "      <td>A</td>\n",
       "      <td>0.3330</td>\n",
       "      <td>-7.137</td>\n",
       "      <td>Major</td>\n",
       "      <td>0.1460</td>\n",
       "      <td>100.031</td>\n",
       "      <td>0.489</td>\n",
       "    </tr>\n",
       "    <tr>\n",
       "      <th>232724</th>\n",
       "      <td>Soul</td>\n",
       "      <td>35</td>\n",
       "      <td>0.09730</td>\n",
       "      <td>0.758</td>\n",
       "      <td>323027</td>\n",
       "      <td>0.470</td>\n",
       "      <td>0.000049</td>\n",
       "      <td>G#</td>\n",
       "      <td>0.0836</td>\n",
       "      <td>-6.708</td>\n",
       "      <td>Minor</td>\n",
       "      <td>0.0287</td>\n",
       "      <td>113.897</td>\n",
       "      <td>0.479</td>\n",
       "    </tr>\n",
       "  </tbody>\n",
       "</table>\n",
       "<p>232725 rows × 14 columns</p>\n",
       "</div>"
      ],
      "text/plain": [
       "        genre  popularity  acousticness  danceability  duration_ms  energy  \\\n",
       "0       Movie           0       0.61100         0.389        99373   0.910   \n",
       "1       Movie           1       0.24600         0.590       137373   0.737   \n",
       "2       Movie           3       0.95200         0.663       170267   0.131   \n",
       "3       Movie           0       0.70300         0.240       152427   0.326   \n",
       "4       Movie           4       0.95000         0.331        82625   0.225   \n",
       "...       ...         ...           ...           ...          ...     ...   \n",
       "232720   Soul          39       0.00384         0.687       326240   0.714   \n",
       "232721   Soul          38       0.03290         0.785       282447   0.683   \n",
       "232722   Soul          47       0.90100         0.517       166960   0.419   \n",
       "232723   Soul          44       0.26200         0.745       222442   0.704   \n",
       "232724   Soul          35       0.09730         0.758       323027   0.470   \n",
       "\n",
       "        instrumentalness key  liveness  loudness   mode  speechiness    tempo  \\\n",
       "0               0.000000  C#    0.3460    -1.828  Major       0.0525  166.969   \n",
       "1               0.000000  F#    0.1510    -5.559  Minor       0.0868  174.003   \n",
       "2               0.000000   C    0.1030   -13.879  Minor       0.0362   99.488   \n",
       "3               0.000000  C#    0.0985   -12.178  Major       0.0395  171.758   \n",
       "4               0.123000   F    0.2020   -21.150  Major       0.0456  140.576   \n",
       "...                  ...  ..       ...       ...    ...          ...      ...   \n",
       "232720          0.544000   D    0.0845   -10.626  Major       0.0316  115.542   \n",
       "232721          0.000880   E    0.2370    -6.944  Minor       0.0337  113.830   \n",
       "232722          0.000000   D    0.0945    -8.282  Major       0.1480   84.135   \n",
       "232723          0.000000   A    0.3330    -7.137  Major       0.1460  100.031   \n",
       "232724          0.000049  G#    0.0836    -6.708  Minor       0.0287  113.897   \n",
       "\n",
       "        valence  \n",
       "0         0.814  \n",
       "1         0.816  \n",
       "2         0.368  \n",
       "3         0.227  \n",
       "4         0.390  \n",
       "...         ...  \n",
       "232720    0.962  \n",
       "232721    0.969  \n",
       "232722    0.813  \n",
       "232723    0.489  \n",
       "232724    0.479  \n",
       "\n",
       "[232725 rows x 14 columns]"
      ]
     },
     "execution_count": 2,
     "metadata": {},
     "output_type": "execute_result"
    }
   ],
   "source": [
    "# Ouverture du fichier csv\n",
    "name = \".data/SpotifyFeatures.csv\"\n",
    "data = pd.read_csv(name)\n",
    "\n",
    "# Déselection des colonnes inutiles \n",
    "data = data.drop(columns = ['artist_name', 'track_name', 'track_id', 'time_signature']) # les caractéristiques qui ne nous intéressent pas\n",
    "\n",
    "# Voici les datas que l'on a\n",
    "data"
   ]
  },
  {
   "cell_type": "code",
   "execution_count": 3,
   "metadata": {},
   "outputs": [
    {
     "data": {
      "image/png": "[encoded data removed]",
      "text/plain": [
       "<Figure size 432x288 with 1 Axes>"
      ]
     },
     "metadata": {
      "needs_background": "light"
     },
     "output_type": "display_data"
    }
   ],
   "source": [
    "# On s'intéresse à la fréquence d'apparition de chaque genre musical\n",
    "data['genre'].value_counts().plot(kind='bar', title = 'Occurrence de chaque genre')\n",
    "plt.show()"
   ]
  },
  {
   "cell_type": "markdown",
   "metadata": {},
   "source": [
    "### Décision 1\n",
    "Comme les genres \"A Capella\" et \"Children's Music\" sont peu représentés, on décide de les enlever de l'étude"
   ]
  },
  {
   "cell_type": "code",
   "execution_count": 4,
   "metadata": {},
   "outputs": [
    {
     "data": {
      "image/png": "[encoded data removed]",
      "text/plain": [
       "<Figure size 432x288 with 1 Axes>"
      ]
     },
     "metadata": {
      "needs_background": "light"
     },
     "output_type": "display_data"
    }
   ],
   "source": [
    "data = data[data.genre != 'A Capella']\n",
    "data = data[data.genre != \"Children's Music\"]\n",
    "data['genre'].value_counts().plot(kind='bar', title = 'Occurrence de chaque genre')\n",
    "plt.show()"
   ]
  },
  {
   "cell_type": "markdown",
   "metadata": {},
   "source": [
    "## Idée\n",
    "On veut faire une partie quantitative. On s'intéresse donc dans un premier temps à nos données.\n",
    "Le but est de déterminer quelles sont les caractéristiques (les colonnes) les plus pertinentes, ce qui varie le plus.\n",
    "On va donc s'intéresser aux 2 PCA de nos données"
   ]
  },
  {
   "cell_type": "code",
   "execution_count": 5,
   "metadata": {},
   "outputs": [
    {
     "data": {
      "text/html": [
       "<div>\n",
       "<style scoped>\n",
       "    .dataframe tbody tr th:only-of-type {\n",
       "        vertical-align: middle;\n",
       "    }\n",
       "\n",
       "    .dataframe tbody tr th {\n",
       "        vertical-align: top;\n",
       "    }\n",
       "\n",
       "    .dataframe thead th {\n",
       "        text-align: right;\n",
       "    }\n",
       "</style>\n",
       "<table border=\"1\" class=\"dataframe\">\n",
       "  <thead>\n",
       "    <tr style=\"text-align: right;\">\n",
       "      <th></th>\n",
       "      <th>genre</th>\n",
       "      <th>popularity</th>\n",
       "      <th>acousticness</th>\n",
       "      <th>danceability</th>\n",
       "      <th>duration_ms</th>\n",
       "      <th>energy</th>\n",
       "      <th>instrumentalness</th>\n",
       "      <th>key</th>\n",
       "      <th>liveness</th>\n",
       "      <th>loudness</th>\n",
       "      <th>mode</th>\n",
       "      <th>speechiness</th>\n",
       "      <th>tempo</th>\n",
       "      <th>valence</th>\n",
       "    </tr>\n",
       "  </thead>\n",
       "  <tbody>\n",
       "    <tr>\n",
       "      <th>0</th>\n",
       "      <td>Movie</td>\n",
       "      <td>0</td>\n",
       "      <td>0.61100</td>\n",
       "      <td>0.389</td>\n",
       "      <td>99373</td>\n",
       "      <td>0.910</td>\n",
       "      <td>0.000000</td>\n",
       "      <td>5</td>\n",
       "      <td>0.3460</td>\n",
       "      <td>-1.828</td>\n",
       "      <td>0</td>\n",
       "      <td>0.0525</td>\n",
       "      <td>166.969</td>\n",
       "      <td>0.814</td>\n",
       "    </tr>\n",
       "    <tr>\n",
       "      <th>1</th>\n",
       "      <td>Movie</td>\n",
       "      <td>1</td>\n",
       "      <td>0.24600</td>\n",
       "      <td>0.590</td>\n",
       "      <td>137373</td>\n",
       "      <td>0.737</td>\n",
       "      <td>0.000000</td>\n",
       "      <td>10</td>\n",
       "      <td>0.1510</td>\n",
       "      <td>-5.559</td>\n",
       "      <td>1</td>\n",
       "      <td>0.0868</td>\n",
       "      <td>174.003</td>\n",
       "      <td>0.816</td>\n",
       "    </tr>\n",
       "    <tr>\n",
       "      <th>2</th>\n",
       "      <td>Movie</td>\n",
       "      <td>3</td>\n",
       "      <td>0.95200</td>\n",
       "      <td>0.663</td>\n",
       "      <td>170267</td>\n",
       "      <td>0.131</td>\n",
       "      <td>0.000000</td>\n",
       "      <td>4</td>\n",
       "      <td>0.1030</td>\n",
       "      <td>-13.879</td>\n",
       "      <td>1</td>\n",
       "      <td>0.0362</td>\n",
       "      <td>99.488</td>\n",
       "      <td>0.368</td>\n",
       "    </tr>\n",
       "    <tr>\n",
       "      <th>3</th>\n",
       "      <td>Movie</td>\n",
       "      <td>0</td>\n",
       "      <td>0.70300</td>\n",
       "      <td>0.240</td>\n",
       "      <td>152427</td>\n",
       "      <td>0.326</td>\n",
       "      <td>0.000000</td>\n",
       "      <td>5</td>\n",
       "      <td>0.0985</td>\n",
       "      <td>-12.178</td>\n",
       "      <td>0</td>\n",
       "      <td>0.0395</td>\n",
       "      <td>171.758</td>\n",
       "      <td>0.227</td>\n",
       "    </tr>\n",
       "    <tr>\n",
       "      <th>4</th>\n",
       "      <td>Movie</td>\n",
       "      <td>4</td>\n",
       "      <td>0.95000</td>\n",
       "      <td>0.331</td>\n",
       "      <td>82625</td>\n",
       "      <td>0.225</td>\n",
       "      <td>0.123000</td>\n",
       "      <td>9</td>\n",
       "      <td>0.2020</td>\n",
       "      <td>-21.150</td>\n",
       "      <td>0</td>\n",
       "      <td>0.0456</td>\n",
       "      <td>140.576</td>\n",
       "      <td>0.390</td>\n",
       "    </tr>\n",
       "    <tr>\n",
       "      <th>...</th>\n",
       "      <td>...</td>\n",
       "      <td>...</td>\n",
       "      <td>...</td>\n",
       "      <td>...</td>\n",
       "      <td>...</td>\n",
       "      <td>...</td>\n",
       "      <td>...</td>\n",
       "      <td>...</td>\n",
       "      <td>...</td>\n",
       "      <td>...</td>\n",
       "      <td>...</td>\n",
       "      <td>...</td>\n",
       "      <td>...</td>\n",
       "      <td>...</td>\n",
       "    </tr>\n",
       "    <tr>\n",
       "      <th>232720</th>\n",
       "      <td>Soul</td>\n",
       "      <td>39</td>\n",
       "      <td>0.00384</td>\n",
       "      <td>0.687</td>\n",
       "      <td>326240</td>\n",
       "      <td>0.714</td>\n",
       "      <td>0.544000</td>\n",
       "      <td>6</td>\n",
       "      <td>0.0845</td>\n",
       "      <td>-10.626</td>\n",
       "      <td>0</td>\n",
       "      <td>0.0316</td>\n",
       "      <td>115.542</td>\n",
       "      <td>0.962</td>\n",
       "    </tr>\n",
       "    <tr>\n",
       "      <th>232721</th>\n",
       "      <td>Soul</td>\n",
       "      <td>38</td>\n",
       "      <td>0.03290</td>\n",
       "      <td>0.785</td>\n",
       "      <td>282447</td>\n",
       "      <td>0.683</td>\n",
       "      <td>0.000880</td>\n",
       "      <td>8</td>\n",
       "      <td>0.2370</td>\n",
       "      <td>-6.944</td>\n",
       "      <td>1</td>\n",
       "      <td>0.0337</td>\n",
       "      <td>113.830</td>\n",
       "      <td>0.969</td>\n",
       "    </tr>\n",
       "    <tr>\n",
       "      <th>232722</th>\n",
       "      <td>Soul</td>\n",
       "      <td>47</td>\n",
       "      <td>0.90100</td>\n",
       "      <td>0.517</td>\n",
       "      <td>166960</td>\n",
       "      <td>0.419</td>\n",
       "      <td>0.000000</td>\n",
       "      <td>6</td>\n",
       "      <td>0.0945</td>\n",
       "      <td>-8.282</td>\n",
       "      <td>0</td>\n",
       "      <td>0.1480</td>\n",
       "      <td>84.135</td>\n",
       "      <td>0.813</td>\n",
       "    </tr>\n",
       "    <tr>\n",
       "      <th>232723</th>\n",
       "      <td>Soul</td>\n",
       "      <td>44</td>\n",
       "      <td>0.26200</td>\n",
       "      <td>0.745</td>\n",
       "      <td>222442</td>\n",
       "      <td>0.704</td>\n",
       "      <td>0.000000</td>\n",
       "      <td>1</td>\n",
       "      <td>0.3330</td>\n",
       "      <td>-7.137</td>\n",
       "      <td>0</td>\n",
       "      <td>0.1460</td>\n",
       "      <td>100.031</td>\n",
       "      <td>0.489</td>\n",
       "    </tr>\n",
       "    <tr>\n",
       "      <th>232724</th>\n",
       "      <td>Soul</td>\n",
       "      <td>35</td>\n",
       "      <td>0.09730</td>\n",
       "      <td>0.758</td>\n",
       "      <td>323027</td>\n",
       "      <td>0.470</td>\n",
       "      <td>0.000049</td>\n",
       "      <td>12</td>\n",
       "      <td>0.0836</td>\n",
       "      <td>-6.708</td>\n",
       "      <td>1</td>\n",
       "      <td>0.0287</td>\n",
       "      <td>113.897</td>\n",
       "      <td>0.479</td>\n",
       "    </tr>\n",
       "  </tbody>\n",
       "</table>\n",
       "<p>227203 rows × 14 columns</p>\n",
       "</div>"
      ],
      "text/plain": [
       "        genre  popularity  acousticness  danceability  duration_ms  energy  \\\n",
       "0       Movie           0       0.61100         0.389        99373   0.910   \n",
       "1       Movie           1       0.24600         0.590       137373   0.737   \n",
       "2       Movie           3       0.95200         0.663       170267   0.131   \n",
       "3       Movie           0       0.70300         0.240       152427   0.326   \n",
       "4       Movie           4       0.95000         0.331        82625   0.225   \n",
       "...       ...         ...           ...           ...          ...     ...   \n",
       "232720   Soul          39       0.00384         0.687       326240   0.714   \n",
       "232721   Soul          38       0.03290         0.785       282447   0.683   \n",
       "232722   Soul          47       0.90100         0.517       166960   0.419   \n",
       "232723   Soul          44       0.26200         0.745       222442   0.704   \n",
       "232724   Soul          35       0.09730         0.758       323027   0.470   \n",
       "\n",
       "        instrumentalness  key  liveness  loudness  mode  speechiness    tempo  \\\n",
       "0               0.000000    5    0.3460    -1.828     0       0.0525  166.969   \n",
       "1               0.000000   10    0.1510    -5.559     1       0.0868  174.003   \n",
       "2               0.000000    4    0.1030   -13.879     1       0.0362   99.488   \n",
       "3               0.000000    5    0.0985   -12.178     0       0.0395  171.758   \n",
       "4               0.123000    9    0.2020   -21.150     0       0.0456  140.576   \n",
       "...                  ...  ...       ...       ...   ...          ...      ...   \n",
       "232720          0.544000    6    0.0845   -10.626     0       0.0316  115.542   \n",
       "232721          0.000880    8    0.2370    -6.944     1       0.0337  113.830   \n",
       "232722          0.000000    6    0.0945    -8.282     0       0.1480   84.135   \n",
       "232723          0.000000    1    0.3330    -7.137     0       0.1460  100.031   \n",
       "232724          0.000049   12    0.0836    -6.708     1       0.0287  113.897   \n",
       "\n",
       "        valence  \n",
       "0         0.814  \n",
       "1         0.816  \n",
       "2         0.368  \n",
       "3         0.227  \n",
       "4         0.390  \n",
       "...         ...  \n",
       "232720    0.962  \n",
       "232721    0.969  \n",
       "232722    0.813  \n",
       "232723    0.489  \n",
       "232724    0.479  \n",
       "\n",
       "[227203 rows x 14 columns]"
      ]
     },
     "execution_count": 5,
     "metadata": {},
     "output_type": "execute_result"
    }
   ],
   "source": [
    "# On remplace le note par un numéro\n",
    "data = data.replace(to_replace=\"A\", value = 1)\n",
    "data = data.replace(to_replace=\"A#\", value = 2)\n",
    "data = data.replace(to_replace=\"B\", value = 3)\n",
    "data = data.replace(to_replace=\"C\", value = 4)\n",
    "data = data.replace(to_replace=\"C#\", value = 5)\n",
    "data = data.replace(to_replace=\"D\", value = 6)\n",
    "data = data.replace(to_replace=\"D#\", value = 7)\n",
    "data = data.replace(to_replace=\"E\", value = 8)\n",
    "data = data.replace(to_replace=\"F\", value = 9)\n",
    "data = data.replace(to_replace=\"F#\", value = 10)\n",
    "data = data.replace(to_replace=\"G\", value = 11)\n",
    "data = data.replace(to_replace=\"G#\", value = 12)\n",
    "\n",
    "# On remplace les modes par un numéro\n",
    "data = data.replace(to_replace=\"Major\", value = 0)\n",
    "data = data.replace(to_replace=\"Minor\", value = 1)\n",
    "\n",
    "data"
   ]
  },
  {
   "cell_type": "code",
   "execution_count": 6,
   "metadata": {},
   "outputs": [],
   "source": [
    "# Comme le mode et la note sont des caractéristiques non quantitatives, on les enlève de nos datas (le temps d'un moment)\n",
    "keys = data[\"key\"]\n",
    "modes = data[\"mode\"]\n",
    "data = data.drop(columns = ['key', 'mode'])"
   ]
  },
  {
   "cell_type": "code",
   "execution_count": 7,
   "metadata": {},
   "outputs": [],
   "source": [
    "# On code les genres par des numéros\n",
    "genres = {\"Comedy\":0, \"Soundtrack\":1, \"Indie\":2, \"Jazz\":3, \"Pop\": 4, \"Electronic\":5, \"Folk\":6, \"Hip-Hop\":7, \"Rock\":8,\n",
    "          \"Alternative\":9, \"Classical\":10, \"Rap\":11, \"World\":12, \"Soul\":13, \"Blues\":14, \"R&B\":15, \"Anime\":16, \"Reggaeton\":17,\n",
    "          \"Ska\":18, \"Reggae\":19, \"Dance\":20, \"Country\":21, \"Opera\":22, \"Movie\":23, \"Children’s Music\":24\n",
    "         }\n",
    "\n",
    "# On les remplace dans nos datas\n",
    "donnees = data.copy()\n",
    "donnees.genre = [genres[s] for s in donnees.genre]"
   ]
  },
  {
   "cell_type": "code",
   "execution_count": 8,
   "metadata": {},
   "outputs": [
    {
     "data": {
      "image/png": "[encoded data removed]",
      "text/plain": [
       "<Figure size 432x288 with 2 Axes>"
      ]
     },
     "metadata": {
      "needs_background": "light"
     },
     "output_type": "display_data"
    }
   ],
   "source": [
    "# On va essayer de trouver les deux composantes les plus pertinentes de notre modèle\n",
    "from sklearn.preprocessing import StandardScaler\n",
    "\n",
    "# On répartit nos datas entre \n",
    "y = donnees[\"genre\"] \n",
    "X = donnees[data.columns.difference([\"genre\"])]\n",
    "\n",
    "scaler = StandardScaler()\n",
    "scaler.fit(X)\n",
    "scaled_data = scaler.transform(X)\n",
    "\n",
    "pca = PCA(n_components=2)\n",
    "pca.fit(scaled_data)\n",
    "x_pca = pca.transform(scaled_data)\n",
    "\n",
    "plt.scatter(x_pca[:,0], x_pca[:,1], c=y, cmap = 'rainbow')\n",
    "plt.colorbar()\n",
    "plt.xlabel('First principal component')\n",
    "plt.ylabel('Second Principal Component')\n",
    "plt.show()"
   ]
  },
  {
   "cell_type": "markdown",
   "metadata": {},
   "source": [
    "## Interprétation\n",
    "Comme on peut le voir sur ce graph, il semblerait que les styles musicaux se ressemblent pas mal. En effet, il semblerait que tous ces genres se superposent sur notre graphique : ils n'ont pas l'air de se distinguer les uns des autres.\n",
    "On peut cependant regarder ce qui les différencient légèrement."
   ]
  },
  {
   "cell_type": "code",
   "execution_count": 9,
   "metadata": {},
   "outputs": [
    {
     "name": "stdout",
     "output_type": "stream",
     "text": [
      "            Features  Horizontalement\n",
      "0       acousticness         0.798237\n",
      "4   instrumentalness         0.615215\n",
      "2        duration_ms         0.125105\n",
      "5           liveness        -0.048906\n",
      "8        speechiness        -0.054342\n",
      "9              tempo        -0.300246\n",
      "7         popularity        -0.466390\n",
      "10           valence        -0.630597\n",
      "1       danceability        -0.652403\n",
      "3             energy        -0.845294\n",
      "6           loudness        -0.886828\n",
      "\n",
      "\n",
      "            Features  Verticalement\n",
      "8        speechiness       0.844829\n",
      "5           liveness       0.821810\n",
      "0       acousticness       0.231864\n",
      "3             energy       0.150273\n",
      "10           valence       0.077690\n",
      "1       danceability       0.056382\n",
      "2        duration_ms      -0.018908\n",
      "6           loudness      -0.019800\n",
      "9              tempo      -0.189256\n",
      "4   instrumentalness      -0.235946\n",
      "7         popularity      -0.400861\n"
     ]
    }
   ],
   "source": [
    "n = len(X)\n",
    "p = len(X.columns)\n",
    "\n",
    "pca = PCA(svd_solver = 'full')\n",
    "coord = pca.fit_transform(scaled_data)\n",
    "eigval = (n-1)/n*pca.explained_variance_\n",
    "\n",
    "# On calcule la corrélation de chacune des variables avec les axes\n",
    "sqrt_eigval = np.sqrt(eigval)\n",
    "corvar = np.zeros((p,p))\n",
    "for k in range(p):\n",
    " corvar[:,k] = pca.components_[k,:] * sqrt_eigval[k]\n",
    "\n",
    "print(pd.DataFrame({'Features': X.columns,'Horizontalement':corvar[:,0]}).sort_values(by = 'Horizontalement', ascending = False))\n",
    "print('\\n')\n",
    "print(pd.DataFrame({'Features': X.columns, 'Verticalement':corvar[:,1]}).sort_values(by = 'Verticalement', ascending = False))"
   ]
  },
  {
   "cell_type": "markdown",
   "metadata": {},
   "source": [
    "Comme on peut le constater, il semblerait que la comédie se distingue des autres genres musicaux via le speechiness, liveness (vers le haut en violet)\n",
    "Tandis que le \"Rap\" et/ou \"World\" se distingue grace à leur popularité (vers le bas)\n",
    "\n",
    "Ensuite, pour ce qui est de l'accousticness, peu de genres semblent se distinguer via cette caractéristiques. "
   ]
  },
  {
   "cell_type": "markdown",
   "metadata": {},
   "source": [
    "# -> Avis sur la suite du projet\n",
    "Comme on a pu le voir sur le graph des 2 PCA, aucun genre musical ne semble réellement se distinger des autres. On pense qu'il sera alors difficile de faire une classification avec un taux de réussite très élevé.\n",
    "\n",
    "Nous allons tout de même le faire (essayer).\n",
    "\n",
    "On décide tout de même de se séparer de certains genres musicaux. En effet, en s'intéressant au CSV, on remarque que les genres \"World\" et \"Alternative\" sont un peu des fourre-touts. \n",
    "\n",
    "De plus, les genres 'Movie', 'Soundtrack', 'Anime', \"Children’s Music'\" représentent plutôt un cadre d'utilisation qu'un genre musical. Ces catégories là sont très variées en terme de musique. Il nous semble donc pas trop mal de les enlever de notre projet pour la classification de musiques en fonction de leur genre musical.\n",
    "\n",
    "Le genre \"Indie\" (indépendant) ne nous parait pas être un genre musical puisque cela signifie que c'est une musique faite par un créateur indépendant. On l'enlève donc.\n",
    "\n",
    "Enfin, pour la suite du projet nous avions le choix entre regrouper les genres musicaux qui se ressemblent (ce qui ne semble pas si irraisonnable puisque les genres se confondent sur notre graph) ou bien les supprimer. On aurait pu décider de les regrouper mais cela aurait pu engendrer une dispersion d'un genre musical dans l'espace."
   ]
  },
  {
   "cell_type": "code",
   "execution_count": 10,
   "metadata": {
    "scrolled": true
   },
   "outputs": [],
   "source": [
    "# On replace key et mode\n",
    "data = data.join(modes)\n",
    "data = data.join(keys)"
   ]
  },
  {
   "cell_type": "code",
   "execution_count": 11,
   "metadata": {},
   "outputs": [],
   "source": [
    "# On se sépare des données non pertinentes\n",
    "data_world = data.loc[data[\"genre\"] == \"World\"]\n",
    "data = data[data.genre != 'World']\n",
    "data = data[data.genre != 'Movie']\n",
    "data = data[data.genre != 'Soundtrack']\n",
    "data = data[data.genre != 'Anime']\n",
    "data = data[data.genre != \"Alternative\"]\n",
    "data = data[data.genre != \"Indie\"]\n",
    "data = data[data.genre != 'Children’s Music']\n",
    "data = data[data.genre != \"Reggaeton\"]\n",
    "\n",
    "# On enlève ces genres pour éviter d'avoir une disparité dans d'autres genres par la suite\n",
    "data = data[data.genre != 'Rap']\n",
    "data = data[data.genre != 'Soul']\n",
    "data = data[data.genre != \"Dance\"]\n",
    "data = data[data.genre != \"Blues\"]\n",
    "data = data[data.genre != 'Country']\n",
    "data = data[data.genre != \"Opera\"]\n",
    "data = data[data.genre != \"Ska\"]\n",
    "data = data[data.genre != \"Reggaeton\"]\n",
    "\n",
    "\n",
    "# data = data.replace(to_replace=\"Rap\", value = \"Hip-Hop\")\n",
    "# data = data.replace(to_replace=\"Soul\", value = \"R&B\")\n",
    "# data = data.replace(to_replace=\"Dance\", value = \"Electronic\")\n",
    "# data = data.replace(to_replace=\"Blues\", value = \"Jazz\")\n",
    "# data = data.replace(to_replace=\"Country\", value = \"Folk\")\n",
    "# data = data.replace(to_replace=\"Opera\", value = \"Classical\")\n",
    "# data = data.replace(to_replace=\"Ska\", value = \"Reggae\")\n",
    "# data = data.replace(to_replace=\"Reggaeton\", value = \"Reggae\")"
   ]
  },
  {
   "cell_type": "code",
   "execution_count": 12,
   "metadata": {},
   "outputs": [
    {
     "data": {
      "text/plain": [
       "<matplotlib.axes._subplots.AxesSubplot at 0x1b8a7700>"
      ]
     },
     "execution_count": 12,
     "metadata": {},
     "output_type": "execute_result"
    },
    {
     "data": {
      "image/png": "[encoded data removed]",
      "text/plain": [
       "<Figure size 432x288 with 1 Axes>"
      ]
     },
     "metadata": {
      "needs_background": "light"
     },
     "output_type": "display_data"
    }
   ],
   "source": [
    "# On veut connaître la fréquence d'apparition des \"nouveaux\" genres musicaux\n",
    "data['genre'].value_counts().plot(kind='bar', title = 'Occurrence de chaque genre')"
   ]
  },
  {
   "cell_type": "code",
   "execution_count": 13,
   "metadata": {},
   "outputs": [],
   "source": [
    "# On garde le nombre de genres de musique\n",
    "K=data.nunique()[0]\n",
    "\n",
    "# On remplace le genre musical par un numéro\n",
    "genres = {\"Classical\":0, \"Electronic\":1, \"Folk\":2, \"Hip-Hop\":3, \"R&B\":4, \"Rock\":5, \"Jazz\":6, \"Reggae\":7, \"Pop\":8, \"Comedy\": 9}\n",
    "data.genre = [genres[s] for s in data.genre]\n",
    "\n",
    "keys = data[\"key\"]\n",
    "modes = data[\"mode\"]\n",
    "data = data.drop(columns = ['key', 'mode'])"
   ]
  },
  {
   "cell_type": "code",
   "execution_count": 14,
   "metadata": {},
   "outputs": [
    {
     "data": {
      "image/png": "[encoded data removed]",
      "text/plain": [
       "<Figure size 432x288 with 2 Axes>"
      ]
     },
     "metadata": {
      "needs_background": "light"
     },
     "output_type": "display_data"
    },
    {
     "name": "stdout",
     "output_type": "stream",
     "text": [
      "            Features  Horizontalement\n",
      "0       acousticness         0.808793\n",
      "4   instrumentalness         0.543334\n",
      "2        duration_ms         0.227085\n",
      "8        speechiness         0.124515\n",
      "5           liveness         0.117497\n",
      "9              tempo        -0.304679\n",
      "7         popularity        -0.522133\n",
      "10           valence        -0.556420\n",
      "1       danceability        -0.650485\n",
      "3             energy        -0.759478\n",
      "6           loudness        -0.880048\n",
      "\n",
      "\n",
      "            Features  Verticalement\n",
      "8        speechiness       0.895742\n",
      "5           liveness       0.861924\n",
      "3             energy       0.358319\n",
      "0       acousticness       0.215496\n",
      "6           loudness       0.106892\n",
      "1       danceability       0.105434\n",
      "10           valence       0.100554\n",
      "2        duration_ms      -0.116050\n",
      "9              tempo      -0.229364\n",
      "4   instrumentalness      -0.354759\n",
      "7         popularity      -0.484291\n"
     ]
    }
   ],
   "source": [
    "from sklearn.preprocessing import StandardScaler\n",
    "\n",
    "donnes = data.copy()\n",
    "y = donnes[\"genre\"] \n",
    "X = donnes[donnes.columns.difference([\"genre\"])]\n",
    "\n",
    "scaler = StandardScaler()\n",
    "scaler.fit(X)\n",
    "scaled_data = scaler.transform(X)\n",
    "\n",
    "pca = PCA(n_components=2)\n",
    "pca.fit(scaled_data)\n",
    "x_pca = pca.transform(scaled_data)\n",
    "\n",
    "plt.scatter(x_pca[:,0], x_pca[:,1], c=y, cmap = 'rainbow')\n",
    "# plt.colorbar(genres.keys())\n",
    "plt.colorbar()\n",
    "plt.xlabel('First principal component')\n",
    "plt.ylabel('Second Principal Component')\n",
    "plt.show()\n",
    "\n",
    "n = len(X)\n",
    "p = len(X.columns)\n",
    "\n",
    "pca = PCA(svd_solver = 'full')\n",
    "coord = pca.fit_transform(scaled_data)\n",
    "eigval = (n-1)/n*pca.explained_variance_\n",
    "\n",
    "# On calcule la corrélation de chacune des variables avec les axes\n",
    "sqrt_eigval = np.sqrt(eigval)\n",
    "corvar = np.zeros((p,p))\n",
    "for k in range(p):\n",
    " corvar[:,k] = pca.components_[k,:] * sqrt_eigval[k]\n",
    "\n",
    "print(pd.DataFrame({'Features': X.columns,'Horizontalement':corvar[:,0]}).sort_values(by = 'Horizontalement', ascending = False))\n",
    "print('\\n')\n",
    "print(pd.DataFrame({'Features': X.columns, 'Verticalement':corvar[:,1]}).sort_values(by = 'Verticalement', ascending = False))"
   ]
  },
  {
   "cell_type": "markdown",
   "metadata": {},
   "source": [
    "Le graph semble être un peu mieux mais on pense que cela restera tout de même compliqué de classifier par la suite."
   ]
  },
  {
   "cell_type": "markdown",
   "metadata": {},
   "source": [
    "# Partie modélisation"
   ]
  },
  {
   "cell_type": "code",
   "execution_count": 15,
   "metadata": {},
   "outputs": [],
   "source": [
    "# On replace key et mode\n",
    "data = data.join(modes)\n",
    "data = data.join(keys)"
   ]
  },
  {
   "cell_type": "code",
   "execution_count": 16,
   "metadata": {},
   "outputs": [],
   "source": [
    "# Permet d'obtenir X et y déjà normalisés\n",
    "def getXY(data):\n",
    "    # Mélange les datas (pour ne pas avoir des datas triées par le genre musical)\n",
    "    data = data.sample(frac = 1)\n",
    "    \n",
    "    # Nos données finales\n",
    "    y = data[\"genre\"] \n",
    "    X = data[data.columns.difference([\"genre\"])]\n",
    "    \n",
    "    #Normaliser les valeurs (entre 0 et 1)\n",
    "    X /= X.max()\n",
    "\n",
    "    return X, y"
   ]
  },
  {
   "cell_type": "code",
   "execution_count": 17,
   "metadata": {},
   "outputs": [],
   "source": [
    "import sklearn.utils\n",
    "\n",
    "# Permet d'obtenir nos sous datas\n",
    "def load_subSets(data, ratio_train, ratio_valid):\n",
    "    data=sklearn.utils.shuffle(data)\n",
    "    X, y = getXY(data)\n",
    "    ratio_test = 1 - ratio_train - ratio_valid\n",
    "    assert(ratio_test>0)\n",
    "    Ntot   = X.shape[0]\n",
    "    Ntrain = int(ratio_train*Ntot)\n",
    "    Nvalid = int(ratio_valid*Ntot)\n",
    "    Ntest  = Ntot - Ntrain - Nvalid\n",
    "    X_train = X[0: Ntrain].copy()\n",
    "    y_train = y[0: Ntrain].copy()\n",
    "    X_valid = X[Ntrain:Ntrain+Nvalid].copy() # X[-Ntest:] est equivalent\n",
    "    y_valid = y[Ntrain:Ntrain+Nvalid].copy() # X[-Ntest:] est equivalent\n",
    "    X_test  = X[-Ntest:].copy()\n",
    "    y_test  = y[-Ntest:].copy()\n",
    "    \n",
    "    return X_train, y_train, X_valid, y_valid, X_test, y_test"
   ]
  },
  {
   "cell_type": "code",
   "execution_count": 18,
   "metadata": {},
   "outputs": [],
   "source": [
    "# Définition des ratios\n",
    "ratio_train = 0.6\n",
    "ratio_valid = 0.3\n",
    "\n",
    "# Création des sets\n",
    "X_train, y_train, X_valid, y_valid, X_test, y_test = load_subSets(data, ratio_train, ratio_valid)\n",
    "DimRepre = X_train.shape[1]"
   ]
  },
  {
   "cell_type": "code",
   "execution_count": 19,
   "metadata": {},
   "outputs": [
    {
     "data": {
      "image/png": "[encoded data removed]",
      "text/plain": [
       "<Figure size 432x288 with 1 Axes>"
      ]
     },
     "metadata": {
      "needs_background": "light"
     },
     "output_type": "display_data"
    }
   ],
   "source": [
    "# Définition de la variance conservée\n",
    "CumulativeExplainedVarianceWanted=0.97\n",
    "\n",
    "# Préprocessus - PCA - Réduction du nombre de \"dimensions\", \"caractéristiques\"\n",
    "pca = PCA().fit(X_train) # idée de se coller aux données\n",
    "CumulativeExplainedVariance = pca.explained_variance_ratio_.cumsum()\n",
    "\n",
    "plt.plot(CumulativeExplainedVariance)\n",
    "plt.axhline(y = CumulativeExplainedVarianceWanted, linestyle = '--')\n",
    "plt.axvline(x = 2, linestyle = '--')\n",
    "\n",
    "plt.title('Cumulative explained variance en fonction du nombre de n_componant')\n",
    "plt.xlabel('Number of components')\n",
    "plt.ylabel('Cumulative explained variance')\n",
    "plt.grid(axis='x')\n",
    "\n",
    "plt.show()"
   ]
  },
  {
   "cell_type": "markdown",
   "metadata": {},
   "source": [
    "On décide de prendre n_components = 2 pour avoir une variance cumulée proche de CumulativeExplainedVarianceWanted"
   ]
  },
  {
   "cell_type": "code",
   "execution_count": 20,
   "metadata": {},
   "outputs": [
    {
     "data": {
      "text/plain": [
       "PCA(n_components=2, svd_solver='full')"
      ]
     },
     "execution_count": 20,
     "metadata": {},
     "output_type": "execute_result"
    }
   ],
   "source": [
    "n_compo = 2 # On décide de prendre 2 pour se rapprocher au plus de 0.9 de variance cumulée\n",
    "preProc = PCA(n_components = n_compo, svd_solver = 'full')\n",
    "preProc.fit(X_train)"
   ]
  },
  {
   "cell_type": "code",
   "execution_count": 21,
   "metadata": {},
   "outputs": [
    {
     "name": "stdout",
     "output_type": "stream",
     "text": [
      "0.001\n",
      "[0.23476574 0.23548433 0.23686669 0.23456701]\n",
      "0.01\n",
      "[0.2337597  0.2337597  0.23262666 0.23370464]\n",
      "0.1\n",
      "[0.23462202 0.23217879 0.23212361 0.23427955]\n",
      "1\n",
      "[0.23469388 0.23217879 0.23219547 0.23442328]\n",
      "10\n",
      "[0.23469388 0.23217879 0.23219547 0.23427955]\n"
     ]
    }
   ],
   "source": [
    "from sklearn.model_selection import cross_val_score\n",
    "\n",
    "linear_training_score = []\n",
    "linear_valid_score = []\n",
    "Cvalues=[]\n",
    "CV_scores=[]\n",
    "\n",
    "X_train, y_train, X_valid, y_valid, X_test, y_test = load_subSets(data, ratio_train, ratio_valid)\n",
    "\n",
    "X_train_Transformed = preProc.transform(X_train)\n",
    "X_valid_Transformed = preProc.transform(X_valid)\n",
    "X_test_Transformed = preProc.transform(X_test)\n",
    "\n",
    "for C_ in [10**x for x in range(-3,2,1)]:\n",
    "    print(C_)\n",
    "\n",
    "    #entrainer le modèle\n",
    "    clf = SVC(C = C_, kernel='linear', decision_function_shape='ovo')\n",
    "    scores = cross_val_score(clf, X_train_Transformed, y_train, cv = 4)\n",
    "    print(scores)\n",
    "    Cvalues.append(C_)\n",
    "    CV_scores.append(np.mean(scores))"
   ]
  },
  {
   "cell_type": "code",
   "execution_count": 22,
   "metadata": {},
   "outputs": [
    {
     "data": {
      "image/png": "[encoded data removed]",
      "text/plain": [
       "<Figure size 432x288 with 1 Axes>"
      ]
     },
     "metadata": {
      "needs_background": "light"
     },
     "output_type": "display_data"
    }
   ],
   "source": [
    "plt.plot(Cvalues, CV_scores, color = 'b', label='score')\n",
    "plt.legend()\n",
    "plt.xscale(\"log\")\n",
    "plt.title('Score en fonction de C')\n",
    "plt.xlabel('C')\n",
    "plt.ylabel('Score')\n",
    "\n",
    "plt.show()"
   ]
  },
  {
   "cell_type": "markdown",
   "metadata": {},
   "source": [
    "D'après nos résultats, le C le plus optimisé est C = 1.\n",
    "\n",
    "On souhaite tout de même voir ce qui serait le plus optimisé d'après une librairire python."
   ]
  },
  {
   "cell_type": "code",
   "execution_count": 23,
   "metadata": {},
   "outputs": [],
   "source": [
    "# On souhaite comparer notre C le plus optimal avec celui identifié par un package\n",
    "import sklearn.model_selection\n"
   ]
  },
  {
   "cell_type": "code",
   "execution_count": 24,
   "metadata": {},
   "outputs": [
    {
     "name": "stdout",
     "output_type": "stream",
     "text": [
      "BALANCED training score: 0.22968944732208194\n"
     ]
    }
   ],
   "source": [
    "import sklearn.metrics\n",
    "clf = SVC(C = 1, kernel='linear', decision_function_shape='ovo')\n",
    "clf.fit(X_train_Transformed, y_train)\n",
    "y_pred = clf.predict(X_test_Transformed)\n",
    "valScore = sklearn.metrics.balanced_accuracy_score(y_test, y_pred)\n",
    "print(\"BALANCED training score:\",valScore)"
   ]
  },
  {
   "cell_type": "code",
   "execution_count": 25,
   "metadata": {},
   "outputs": [
    {
     "data": {
      "text/plain": [
       "<matplotlib.colorbar.Colorbar at 0x1c967580>"
      ]
     },
     "execution_count": 25,
     "metadata": {},
     "output_type": "execute_result"
    },
    {
     "data": {
      "image/png": "[encoded data removed]",
      "text/plain": [
       "<Figure size 432x288 with 2 Axes>"
      ]
     },
     "metadata": {
      "needs_background": "light"
     },
     "output_type": "display_data"
    }
   ],
   "source": [
    "sklearn.metrics.accuracy_score(y_pred, y_test)\n",
    "confmat = sklearn.metrics.confusion_matrix(y_pred, y_test)\n",
    "plt.imshow(confmat) ## imshow plutot que contourf, pour ne pas lisser les valeurs.\n",
    "plt.colorbar() ## pour montrer l'échelle, sur la droite"
   ]
  },
  {
   "cell_type": "markdown",
   "metadata": {},
   "source": [
    "Notre matrice de confusion nous montre bien que le modèle n'arrive pas très bien à classifier les genres. \n",
    "Il semblerait qu'il ait tout de même des facilités à trouver la classe 0 (Classical).\n",
    "\n",
    "## Et si on essayait d'avoir quelque chose de pas trop mal ?\n",
    "Maintenant que l'on a notre modèle et nos données, on aimerait essayer de refaire les manipulations avec cette fois ci seulement trois classes qui ont l'air de se distinguer visuellement sur notre graph précédent avec les PCA.\n",
    "\n",
    "On choisit pour cela la classe \"Classical\", \"Comedy\" et \"Rock\"."
   ]
  },
  {
   "cell_type": "code",
   "execution_count": 27,
   "metadata": {},
   "outputs": [
    {
     "data": {
      "text/html": [
       "<div>\n",
       "<style scoped>\n",
       "    .dataframe tbody tr th:only-of-type {\n",
       "        vertical-align: middle;\n",
       "    }\n",
       "\n",
       "    .dataframe tbody tr th {\n",
       "        vertical-align: top;\n",
       "    }\n",
       "\n",
       "    .dataframe thead th {\n",
       "        text-align: right;\n",
       "    }\n",
       "</style>\n",
       "<table border=\"1\" class=\"dataframe\">\n",
       "  <thead>\n",
       "    <tr style=\"text-align: right;\">\n",
       "      <th></th>\n",
       "      <th>genre</th>\n",
       "      <th>popularity</th>\n",
       "      <th>acousticness</th>\n",
       "      <th>danceability</th>\n",
       "      <th>duration_ms</th>\n",
       "      <th>energy</th>\n",
       "      <th>instrumentalness</th>\n",
       "      <th>liveness</th>\n",
       "      <th>loudness</th>\n",
       "      <th>speechiness</th>\n",
       "      <th>tempo</th>\n",
       "      <th>valence</th>\n",
       "      <th>mode</th>\n",
       "      <th>key</th>\n",
       "    </tr>\n",
       "  </thead>\n",
       "  <tbody>\n",
       "    <tr>\n",
       "      <th>104022</th>\n",
       "      <td>0</td>\n",
       "      <td>66</td>\n",
       "      <td>0.9000</td>\n",
       "      <td>0.257</td>\n",
       "      <td>151480</td>\n",
       "      <td>0.10900</td>\n",
       "      <td>0.867000</td>\n",
       "      <td>0.0762</td>\n",
       "      <td>-21.356</td>\n",
       "      <td>0.0597</td>\n",
       "      <td>75.020</td>\n",
       "      <td>0.3070</td>\n",
       "      <td>0</td>\n",
       "      <td>11</td>\n",
       "    </tr>\n",
       "    <tr>\n",
       "      <th>104023</th>\n",
       "      <td>0</td>\n",
       "      <td>69</td>\n",
       "      <td>0.9920</td>\n",
       "      <td>0.196</td>\n",
       "      <td>138427</td>\n",
       "      <td>0.00687</td>\n",
       "      <td>0.917000</td>\n",
       "      <td>0.1060</td>\n",
       "      <td>-34.255</td>\n",
       "      <td>0.0442</td>\n",
       "      <td>72.125</td>\n",
       "      <td>0.0530</td>\n",
       "      <td>0</td>\n",
       "      <td>11</td>\n",
       "    </tr>\n",
       "    <tr>\n",
       "      <th>104024</th>\n",
       "      <td>0</td>\n",
       "      <td>68</td>\n",
       "      <td>0.9820</td>\n",
       "      <td>0.194</td>\n",
       "      <td>433800</td>\n",
       "      <td>0.03240</td>\n",
       "      <td>0.961000</td>\n",
       "      <td>0.0916</td>\n",
       "      <td>-28.215</td>\n",
       "      <td>0.0382</td>\n",
       "      <td>144.130</td>\n",
       "      <td>0.0596</td>\n",
       "      <td>0</td>\n",
       "      <td>9</td>\n",
       "    </tr>\n",
       "    <tr>\n",
       "      <th>104025</th>\n",
       "      <td>0</td>\n",
       "      <td>68</td>\n",
       "      <td>0.9950</td>\n",
       "      <td>0.184</td>\n",
       "      <td>315427</td>\n",
       "      <td>0.00527</td>\n",
       "      <td>0.887000</td>\n",
       "      <td>0.1730</td>\n",
       "      <td>-37.264</td>\n",
       "      <td>0.0432</td>\n",
       "      <td>170.612</td>\n",
       "      <td>0.1510</td>\n",
       "      <td>1</td>\n",
       "      <td>5</td>\n",
       "    </tr>\n",
       "    <tr>\n",
       "      <th>104026</th>\n",
       "      <td>0</td>\n",
       "      <td>68</td>\n",
       "      <td>0.9950</td>\n",
       "      <td>0.228</td>\n",
       "      <td>163000</td>\n",
       "      <td>0.00385</td>\n",
       "      <td>0.917000</td>\n",
       "      <td>0.0858</td>\n",
       "      <td>-35.213</td>\n",
       "      <td>0.0449</td>\n",
       "      <td>141.201</td>\n",
       "      <td>0.1170</td>\n",
       "      <td>1</td>\n",
       "      <td>1</td>\n",
       "    </tr>\n",
       "    <tr>\n",
       "      <th>...</th>\n",
       "      <td>...</td>\n",
       "      <td>...</td>\n",
       "      <td>...</td>\n",
       "      <td>...</td>\n",
       "      <td>...</td>\n",
       "      <td>...</td>\n",
       "      <td>...</td>\n",
       "      <td>...</td>\n",
       "      <td>...</td>\n",
       "      <td>...</td>\n",
       "      <td>...</td>\n",
       "      <td>...</td>\n",
       "      <td>...</td>\n",
       "      <td>...</td>\n",
       "    </tr>\n",
       "    <tr>\n",
       "      <th>226503</th>\n",
       "      <td>5</td>\n",
       "      <td>58</td>\n",
       "      <td>0.6700</td>\n",
       "      <td>0.718</td>\n",
       "      <td>136067</td>\n",
       "      <td>0.59300</td>\n",
       "      <td>0.000000</td>\n",
       "      <td>0.1720</td>\n",
       "      <td>-9.976</td>\n",
       "      <td>0.0377</td>\n",
       "      <td>124.251</td>\n",
       "      <td>0.8690</td>\n",
       "      <td>0</td>\n",
       "      <td>4</td>\n",
       "    </tr>\n",
       "    <tr>\n",
       "      <th>226504</th>\n",
       "      <td>5</td>\n",
       "      <td>60</td>\n",
       "      <td>0.0340</td>\n",
       "      <td>0.521</td>\n",
       "      <td>215973</td>\n",
       "      <td>0.93300</td>\n",
       "      <td>0.000021</td>\n",
       "      <td>0.3300</td>\n",
       "      <td>-4.874</td>\n",
       "      <td>0.1790</td>\n",
       "      <td>169.842</td>\n",
       "      <td>0.6070</td>\n",
       "      <td>1</td>\n",
       "      <td>3</td>\n",
       "    </tr>\n",
       "    <tr>\n",
       "      <th>226505</th>\n",
       "      <td>5</td>\n",
       "      <td>59</td>\n",
       "      <td>0.6710</td>\n",
       "      <td>0.618</td>\n",
       "      <td>194000</td>\n",
       "      <td>0.76900</td>\n",
       "      <td>0.241000</td>\n",
       "      <td>0.2760</td>\n",
       "      <td>-4.642</td>\n",
       "      <td>0.0309</td>\n",
       "      <td>111.978</td>\n",
       "      <td>0.6070</td>\n",
       "      <td>1</td>\n",
       "      <td>3</td>\n",
       "    </tr>\n",
       "    <tr>\n",
       "      <th>226506</th>\n",
       "      <td>5</td>\n",
       "      <td>51</td>\n",
       "      <td>0.0543</td>\n",
       "      <td>0.681</td>\n",
       "      <td>209893</td>\n",
       "      <td>0.66200</td>\n",
       "      <td>0.005120</td>\n",
       "      <td>0.2060</td>\n",
       "      <td>-6.526</td>\n",
       "      <td>0.1150</td>\n",
       "      <td>149.485</td>\n",
       "      <td>0.8500</td>\n",
       "      <td>0</td>\n",
       "      <td>12</td>\n",
       "    </tr>\n",
       "    <tr>\n",
       "      <th>226507</th>\n",
       "      <td>5</td>\n",
       "      <td>55</td>\n",
       "      <td>0.3850</td>\n",
       "      <td>0.493</td>\n",
       "      <td>280947</td>\n",
       "      <td>0.46100</td>\n",
       "      <td>0.000333</td>\n",
       "      <td>0.0985</td>\n",
       "      <td>-9.777</td>\n",
       "      <td>0.0336</td>\n",
       "      <td>140.049</td>\n",
       "      <td>0.2860</td>\n",
       "      <td>1</td>\n",
       "      <td>3</td>\n",
       "    </tr>\n",
       "  </tbody>\n",
       "</table>\n",
       "<p>28209 rows × 14 columns</p>\n",
       "</div>"
      ],
      "text/plain": [
       "        genre  popularity  acousticness  danceability  duration_ms   energy  \\\n",
       "104022      0          66        0.9000         0.257       151480  0.10900   \n",
       "104023      0          69        0.9920         0.196       138427  0.00687   \n",
       "104024      0          68        0.9820         0.194       433800  0.03240   \n",
       "104025      0          68        0.9950         0.184       315427  0.00527   \n",
       "104026      0          68        0.9950         0.228       163000  0.00385   \n",
       "...       ...         ...           ...           ...          ...      ...   \n",
       "226503      5          58        0.6700         0.718       136067  0.59300   \n",
       "226504      5          60        0.0340         0.521       215973  0.93300   \n",
       "226505      5          59        0.6710         0.618       194000  0.76900   \n",
       "226506      5          51        0.0543         0.681       209893  0.66200   \n",
       "226507      5          55        0.3850         0.493       280947  0.46100   \n",
       "\n",
       "        instrumentalness  liveness  loudness  speechiness    tempo  valence  \\\n",
       "104022          0.867000    0.0762   -21.356       0.0597   75.020   0.3070   \n",
       "104023          0.917000    0.1060   -34.255       0.0442   72.125   0.0530   \n",
       "104024          0.961000    0.0916   -28.215       0.0382  144.130   0.0596   \n",
       "104025          0.887000    0.1730   -37.264       0.0432  170.612   0.1510   \n",
       "104026          0.917000    0.0858   -35.213       0.0449  141.201   0.1170   \n",
       "...                  ...       ...       ...          ...      ...      ...   \n",
       "226503          0.000000    0.1720    -9.976       0.0377  124.251   0.8690   \n",
       "226504          0.000021    0.3300    -4.874       0.1790  169.842   0.6070   \n",
       "226505          0.241000    0.2760    -4.642       0.0309  111.978   0.6070   \n",
       "226506          0.005120    0.2060    -6.526       0.1150  149.485   0.8500   \n",
       "226507          0.000333    0.0985    -9.777       0.0336  140.049   0.2860   \n",
       "\n",
       "        mode  key  \n",
       "104022     0   11  \n",
       "104023     0   11  \n",
       "104024     0    9  \n",
       "104025     1    5  \n",
       "104026     1    1  \n",
       "...      ...  ...  \n",
       "226503     0    4  \n",
       "226504     1    3  \n",
       "226505     1    3  \n",
       "226506     0   12  \n",
       "226507     1    3  \n",
       "\n",
       "[28209 rows x 14 columns]"
      ]
     },
     "execution_count": 27,
     "metadata": {},
     "output_type": "execute_result"
    }
   ],
   "source": [
    "# On supprime les datas que l'on ne veut pas considérer\n",
    "data = data[data.genre != 1] # 1 : Electronic\n",
    "data = data[data.genre != 2] # 2 : Folk\n",
    "data = data[data.genre != 3] # 3 : Hip-Hop\n",
    "data = data[data.genre != 4] # 4 : R&B\n",
    "data = data[data.genre != 6] # 6 : Jazz\n",
    "data = data[data.genre != 7] # 7 : Reggae\n",
    "data = data[data.genre != 8] # 8 : Pop\n",
    "data"
   ]
  },
  {
   "cell_type": "code",
   "execution_count": 28,
   "metadata": {},
   "outputs": [
    {
     "data": {
      "image/png": "[encoded data removed]",
      "text/plain": [
       "<Figure size 432x288 with 2 Axes>"
      ]
     },
     "metadata": {
      "needs_background": "light"
     },
     "output_type": "display_data"
    }
   ],
   "source": [
    "# On réaffiche nos classes par rapport à leur 2 PCA\n",
    "y = data[\"genre\"] \n",
    "X = data[donnes.columns.difference([\"genre\"])]\n",
    "\n",
    "scaler = StandardScaler()\n",
    "scaler.fit(X)\n",
    "scaled_data = scaler.transform(X)\n",
    "\n",
    "pca = PCA(n_components=2)\n",
    "pca.fit(scaled_data)\n",
    "x_pca = pca.transform(scaled_data)\n",
    "\n",
    "plt.scatter(x_pca[:,0], x_pca[:,1], c=y, cmap = 'rainbow')\n",
    "# plt.colorbar(genres.keys())\n",
    "plt.colorbar()\n",
    "plt.xlabel('First principal component')\n",
    "plt.ylabel('Second Principal Component')\n",
    "plt.show()"
   ]
  },
  {
   "cell_type": "code",
   "execution_count": 29,
   "metadata": {},
   "outputs": [
    {
     "name": "stdout",
     "output_type": "stream",
     "text": [
      "0.001\n",
      "[0.67674858 0.68045379 0.67903569 0.68588986]\n",
      "0.01\n",
      "[0.67793006 0.6813992  0.67785394 0.68329   ]\n",
      "0.1\n",
      "[0.67745747 0.68116285 0.67927204 0.68541716]\n",
      "1\n",
      "[0.67698488 0.68116285 0.67927204 0.68494446]\n",
      "10\n",
      "[0.67722117 0.68116285 0.67950839 0.68494446]\n",
      "100\n",
      "[0.67745747 0.68116285 0.67974474 0.68470811]\n"
     ]
    }
   ],
   "source": [
    "linear_training_score = []\n",
    "linear_valid_score = []\n",
    "Cvalues=[]\n",
    "CV_scores=[]\n",
    "\n",
    "X_train, y_train, X_valid, y_valid, X_test, y_test = load_subSets(data, ratio_train, ratio_valid)\n",
    "\n",
    "X_train_Transformed = preProc.transform(X_train)\n",
    "X_valid_Transformed = preProc.transform(X_valid)\n",
    "X_test_Transformed = preProc.transform(X_test)\n",
    "\n",
    "for C_ in [10**x for x in range(-3,3,1)]:\n",
    "    print(C_)\n",
    "    clf = SVC(C = C_, kernel='linear', decision_function_shape='ovo')\n",
    "    scores = cross_val_score(clf, X_train_Transformed, y_train, cv = 4)\n",
    "    print(scores)\n",
    "    Cvalues.append(C_)\n",
    "    CV_scores.append(np.mean(scores))"
   ]
  },
  {
   "cell_type": "code",
   "execution_count": 30,
   "metadata": {},
   "outputs": [
    {
     "name": "stdout",
     "output_type": "stream",
     "text": [
      "BALANCED training score: 0.6887497327724365\n"
     ]
    },
    {
     "data": {
      "text/plain": [
       "<matplotlib.colorbar.Colorbar at 0x1f249880>"
      ]
     },
     "execution_count": 30,
     "metadata": {},
     "output_type": "execute_result"
    },
    {
     "data": {
      "image/png": "[encoded data removed]",
      "text/plain": [
       "<Figure size 432x288 with 2 Axes>"
      ]
     },
     "metadata": {
      "needs_background": "light"
     },
     "output_type": "display_data"
    }
   ],
   "source": [
    "clf = SVC(C = 1, kernel='linear', decision_function_shape='ovo')\n",
    "clf.fit(X_train_Transformed, y_train)\n",
    "y_pred = clf.predict(X_test_Transformed)\n",
    "valScore = sklearn.metrics.balanced_accuracy_score(y_test, y_pred)\n",
    "print(\"BALANCED training score:\",valScore)\n",
    "\n",
    "sklearn.metrics.accuracy_score(y_pred, y_test)\n",
    "confmat = sklearn.metrics.confusion_matrix(y_pred, y_test)\n",
    "plt.imshow(confmat) ## imshow plutot que contourf, pour ne pas lisser les valeurs.\n",
    "plt.colorbar() ## pour montrer l'échelle, sur la droite"
   ]
  },
  {
   "cell_type": "code",
   "execution_count": null,
   "metadata": {},
   "outputs": [],
   "source": []
  },
  {
   "cell_type": "markdown",
   "metadata": {},
   "source": [
    "# Conclusion\n",
    "On rappelle que le but du projet était de créer un modèle de Machine Learning permettant la classification de musiques en fonction de leur genre musical.\n",
    "Le préprocessing nous a permis de visualiser les données en prenant en compte leur deux premiers Principal component analysis (PCA). On en a déduit qu'il serait difficile de classifier les musiques puisque les genres ne se distinguent pas beaucoup.\n",
    "\n",
    "Comme nous l'avions imaginé, la classification en fonction du genre musical n'a pas été un grand succès : on a un score d'à peu près 23% donc pas satisfaisant pour utiliser le modèle par la suite.\n",
    "\n",
    "En refaisant le projet avec cette fois ci 3 classes que l'on a identifié comme plus ou moins distinguables, nous avons eu un résultat un peu plus intéressant.\n",
    "\n",
    "Néanmoins, il est possible que l'on puisse prédire un genre musical à l'aide d'autres algorithmes comme un decision_trees.\n",
    "\n",
    "Même si nous n'avons pas réussi à classifier, le projet nous a beaucoup plus :)"
   ]
  }
 ],
 "metadata": {
  "kernelspec": {
   "display_name": "Python 3",
   "language": "python",
   "name": "python3"
  },
  "language_info": {
   "codemirror_mode": {
    "name": "ipython",
    "version": 3
   },
   "file_extension": ".py",
   "mimetype": "text/x-python",
   "name": "python",
   "nbconvert_exporter": "python",
   "pygments_lexer": "ipython3",
   "version": "3.8.1"
  }
 },
 "nbformat": 4,
 "nbformat_minor": 4
}
