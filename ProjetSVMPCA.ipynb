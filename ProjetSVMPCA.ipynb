{
 "cells": [
  {
   "cell_type": "code",
   "execution_count": 19,
   "metadata": {},
   "outputs": [],
   "source": [
    "import numpy as np\n",
    "import matplotlib.pyplot as plt\n",
    "import matplotlib.cm as cm\n",
    "import pandas as pd\n",
    "from sklearn.decomposition import PCA\n",
    "from sklearn.svm import SVC\n",
    "\n",
    "plt.ion()"
   ]
  },
  {
   "cell_type": "code",
   "execution_count": 20,
   "metadata": {},
   "outputs": [
    {
     "data": {
      "text/plain": [
       "<matplotlib.axes._subplots.AxesSubplot at 0x1cb37d18>"
      ]
     },
     "execution_count": 20,
     "metadata": {},
     "output_type": "execute_result"
    },
    {
     "data": {
      "image/png": "[encoded data removed]",
      "text/plain": [
       "<Figure size 432x288 with 1 Axes>"
      ]
     },
     "metadata": {
      "needs_background": "light"
     },
     "output_type": "display_data"
    }
   ],
   "source": [
    "# Ouverture du fichier csv\n",
    "name = \".data/SpotifyFeatures.csv\"\n",
    "data = pd.read_csv(name)\n",
    "\n",
    "# Déselection des colonnes inutiles \n",
    "data = data.drop(columns = ['artist_name', 'track_name', 'track_id', 'time_signature']) # les caractéristiques qui ne nous intéressent pas\n",
    "data['genre'].value_counts().plot(kind='bar', title = 'Occurrence de chaque genre')"
   ]
  },
  {
   "cell_type": "code",
   "execution_count": 21,
   "metadata": {},
   "outputs": [
    {
     "name": "stdout",
     "output_type": "stream",
     "text": [
      "21\n"
     ]
    },
    {
     "data": {
      "text/html": [
       "<div>\n",
       "<style scoped>\n",
       "    .dataframe tbody tr th:only-of-type {\n",
       "        vertical-align: middle;\n",
       "    }\n",
       "\n",
       "    .dataframe tbody tr th {\n",
       "        vertical-align: top;\n",
       "    }\n",
       "\n",
       "    .dataframe thead th {\n",
       "        text-align: right;\n",
       "    }\n",
       "</style>\n",
       "<table border=\"1\" class=\"dataframe\">\n",
       "  <thead>\n",
       "    <tr style=\"text-align: right;\">\n",
       "      <th></th>\n",
       "      <th>genre</th>\n",
       "      <th>popularity</th>\n",
       "      <th>acousticness</th>\n",
       "      <th>danceability</th>\n",
       "      <th>duration_ms</th>\n",
       "      <th>energy</th>\n",
       "      <th>instrumentalness</th>\n",
       "      <th>key</th>\n",
       "      <th>liveness</th>\n",
       "      <th>loudness</th>\n",
       "      <th>mode</th>\n",
       "      <th>speechiness</th>\n",
       "      <th>tempo</th>\n",
       "      <th>valence</th>\n",
       "    </tr>\n",
       "  </thead>\n",
       "  <tbody>\n",
       "    <tr>\n",
       "      <th>135</th>\n",
       "      <td>17</td>\n",
       "      <td>65</td>\n",
       "      <td>0.08300</td>\n",
       "      <td>0.724</td>\n",
       "      <td>246333</td>\n",
       "      <td>0.689</td>\n",
       "      <td>0.000000</td>\n",
       "      <td>6</td>\n",
       "      <td>0.3040</td>\n",
       "      <td>-5.922</td>\n",
       "      <td>1</td>\n",
       "      <td>0.1350</td>\n",
       "      <td>146.496</td>\n",
       "      <td>0.6930</td>\n",
       "    </tr>\n",
       "    <tr>\n",
       "      <th>136</th>\n",
       "      <td>17</td>\n",
       "      <td>63</td>\n",
       "      <td>0.32300</td>\n",
       "      <td>0.685</td>\n",
       "      <td>186467</td>\n",
       "      <td>0.610</td>\n",
       "      <td>0.000000</td>\n",
       "      <td>4</td>\n",
       "      <td>0.1020</td>\n",
       "      <td>-5.221</td>\n",
       "      <td>1</td>\n",
       "      <td>0.0439</td>\n",
       "      <td>94.384</td>\n",
       "      <td>0.3230</td>\n",
       "    </tr>\n",
       "    <tr>\n",
       "      <th>137</th>\n",
       "      <td>17</td>\n",
       "      <td>62</td>\n",
       "      <td>0.06750</td>\n",
       "      <td>0.762</td>\n",
       "      <td>199520</td>\n",
       "      <td>0.520</td>\n",
       "      <td>0.000004</td>\n",
       "      <td>9</td>\n",
       "      <td>0.1140</td>\n",
       "      <td>-5.237</td>\n",
       "      <td>1</td>\n",
       "      <td>0.0959</td>\n",
       "      <td>75.047</td>\n",
       "      <td>0.0862</td>\n",
       "    </tr>\n",
       "    <tr>\n",
       "      <th>138</th>\n",
       "      <td>17</td>\n",
       "      <td>61</td>\n",
       "      <td>0.36000</td>\n",
       "      <td>0.563</td>\n",
       "      <td>240597</td>\n",
       "      <td>0.366</td>\n",
       "      <td>0.002430</td>\n",
       "      <td>3</td>\n",
       "      <td>0.0955</td>\n",
       "      <td>-6.896</td>\n",
       "      <td>1</td>\n",
       "      <td>0.1210</td>\n",
       "      <td>85.352</td>\n",
       "      <td>0.7680</td>\n",
       "    </tr>\n",
       "    <tr>\n",
       "      <th>139</th>\n",
       "      <td>17</td>\n",
       "      <td>68</td>\n",
       "      <td>0.59600</td>\n",
       "      <td>0.653</td>\n",
       "      <td>213947</td>\n",
       "      <td>0.621</td>\n",
       "      <td>0.000000</td>\n",
       "      <td>3</td>\n",
       "      <td>0.0811</td>\n",
       "      <td>-5.721</td>\n",
       "      <td>1</td>\n",
       "      <td>0.0409</td>\n",
       "      <td>100.006</td>\n",
       "      <td>0.4660</td>\n",
       "    </tr>\n",
       "    <tr>\n",
       "      <th>...</th>\n",
       "      <td>...</td>\n",
       "      <td>...</td>\n",
       "      <td>...</td>\n",
       "      <td>...</td>\n",
       "      <td>...</td>\n",
       "      <td>...</td>\n",
       "      <td>...</td>\n",
       "      <td>...</td>\n",
       "      <td>...</td>\n",
       "      <td>...</td>\n",
       "      <td>...</td>\n",
       "      <td>...</td>\n",
       "      <td>...</td>\n",
       "      <td>...</td>\n",
       "    </tr>\n",
       "    <tr>\n",
       "      <th>232720</th>\n",
       "      <td>1</td>\n",
       "      <td>39</td>\n",
       "      <td>0.00384</td>\n",
       "      <td>0.687</td>\n",
       "      <td>326240</td>\n",
       "      <td>0.714</td>\n",
       "      <td>0.544000</td>\n",
       "      <td>6</td>\n",
       "      <td>0.0845</td>\n",
       "      <td>-10.626</td>\n",
       "      <td>0</td>\n",
       "      <td>0.0316</td>\n",
       "      <td>115.542</td>\n",
       "      <td>0.9620</td>\n",
       "    </tr>\n",
       "    <tr>\n",
       "      <th>232721</th>\n",
       "      <td>1</td>\n",
       "      <td>38</td>\n",
       "      <td>0.03290</td>\n",
       "      <td>0.785</td>\n",
       "      <td>282447</td>\n",
       "      <td>0.683</td>\n",
       "      <td>0.000880</td>\n",
       "      <td>8</td>\n",
       "      <td>0.2370</td>\n",
       "      <td>-6.944</td>\n",
       "      <td>1</td>\n",
       "      <td>0.0337</td>\n",
       "      <td>113.830</td>\n",
       "      <td>0.9690</td>\n",
       "    </tr>\n",
       "    <tr>\n",
       "      <th>232722</th>\n",
       "      <td>1</td>\n",
       "      <td>47</td>\n",
       "      <td>0.90100</td>\n",
       "      <td>0.517</td>\n",
       "      <td>166960</td>\n",
       "      <td>0.419</td>\n",
       "      <td>0.000000</td>\n",
       "      <td>6</td>\n",
       "      <td>0.0945</td>\n",
       "      <td>-8.282</td>\n",
       "      <td>0</td>\n",
       "      <td>0.1480</td>\n",
       "      <td>84.135</td>\n",
       "      <td>0.8130</td>\n",
       "    </tr>\n",
       "    <tr>\n",
       "      <th>232723</th>\n",
       "      <td>1</td>\n",
       "      <td>44</td>\n",
       "      <td>0.26200</td>\n",
       "      <td>0.745</td>\n",
       "      <td>222442</td>\n",
       "      <td>0.704</td>\n",
       "      <td>0.000000</td>\n",
       "      <td>1</td>\n",
       "      <td>0.3330</td>\n",
       "      <td>-7.137</td>\n",
       "      <td>0</td>\n",
       "      <td>0.1460</td>\n",
       "      <td>100.031</td>\n",
       "      <td>0.4890</td>\n",
       "    </tr>\n",
       "    <tr>\n",
       "      <th>232724</th>\n",
       "      <td>1</td>\n",
       "      <td>35</td>\n",
       "      <td>0.09730</td>\n",
       "      <td>0.758</td>\n",
       "      <td>323027</td>\n",
       "      <td>0.470</td>\n",
       "      <td>0.000049</td>\n",
       "      <td>12</td>\n",
       "      <td>0.0836</td>\n",
       "      <td>-6.708</td>\n",
       "      <td>1</td>\n",
       "      <td>0.0287</td>\n",
       "      <td>113.897</td>\n",
       "      <td>0.4790</td>\n",
       "    </tr>\n",
       "  </tbody>\n",
       "</table>\n",
       "<p>197122 rows × 14 columns</p>\n",
       "</div>"
      ],
      "text/plain": [
       "        genre  popularity  acousticness  danceability  duration_ms  energy  \\\n",
       "135        17          65       0.08300         0.724       246333   0.689   \n",
       "136        17          63       0.32300         0.685       186467   0.610   \n",
       "137        17          62       0.06750         0.762       199520   0.520   \n",
       "138        17          61       0.36000         0.563       240597   0.366   \n",
       "139        17          68       0.59600         0.653       213947   0.621   \n",
       "...       ...         ...           ...           ...          ...     ...   \n",
       "232720      1          39       0.00384         0.687       326240   0.714   \n",
       "232721      1          38       0.03290         0.785       282447   0.683   \n",
       "232722      1          47       0.90100         0.517       166960   0.419   \n",
       "232723      1          44       0.26200         0.745       222442   0.704   \n",
       "232724      1          35       0.09730         0.758       323027   0.470   \n",
       "\n",
       "        instrumentalness  key  liveness  loudness  mode  speechiness    tempo  \\\n",
       "135             0.000000    6    0.3040    -5.922     1       0.1350  146.496   \n",
       "136             0.000000    4    0.1020    -5.221     1       0.0439   94.384   \n",
       "137             0.000004    9    0.1140    -5.237     1       0.0959   75.047   \n",
       "138             0.002430    3    0.0955    -6.896     1       0.1210   85.352   \n",
       "139             0.000000    3    0.0811    -5.721     1       0.0409  100.006   \n",
       "...                  ...  ...       ...       ...   ...          ...      ...   \n",
       "232720          0.544000    6    0.0845   -10.626     0       0.0316  115.542   \n",
       "232721          0.000880    8    0.2370    -6.944     1       0.0337  113.830   \n",
       "232722          0.000000    6    0.0945    -8.282     0       0.1480   84.135   \n",
       "232723          0.000000    1    0.3330    -7.137     0       0.1460  100.031   \n",
       "232724          0.000049   12    0.0836    -6.708     1       0.0287  113.897   \n",
       "\n",
       "        valence  \n",
       "135      0.6930  \n",
       "136      0.3230  \n",
       "137      0.0862  \n",
       "138      0.7680  \n",
       "139      0.4660  \n",
       "...         ...  \n",
       "232720   0.9620  \n",
       "232721   0.9690  \n",
       "232722   0.8130  \n",
       "232723   0.4890  \n",
       "232724   0.4790  \n",
       "\n",
       "[197122 rows x 14 columns]"
      ]
     },
     "execution_count": 21,
     "metadata": {},
     "output_type": "execute_result"
    },
    {
     "data": {
      "image/png": "[encoded data removed]",
      "text/plain": [
       "<Figure size 432x288 with 1 Axes>"
      ]
     },
     "metadata": {
      "needs_background": "light"
     },
     "output_type": "display_data"
    }
   ],
   "source": [
    "# Séparation des données entre les genres \"World\" et le reste\n",
    "data_world = data.loc[data[\"genre\"] == \"World\"]\n",
    "data = data[data.genre != 'World']\n",
    "data = data[data.genre != 'Movie']\n",
    "data = data[data.genre != 'Soundtrack']\n",
    "data = data[data.genre != 'Anime']\n",
    "data = data[data.genre != 'A Capella']\n",
    "data = data.replace(to_replace=\"Children’s Music\", value = \"Children's Music\")\n",
    "\n",
    "data['genre'].value_counts().plot(kind='bar', title = 'Occurrence de chaque genre')\n",
    "\n",
    "# Compte le nombre de genres de musique\n",
    "K=data.nunique()[0]\n",
    "print(K)\n",
    "\n",
    "# On remplace les string par un numéro\n",
    "data = data.replace(to_replace=\"Major\", value = 0)\n",
    "data = data.replace(to_replace=\"Minor\", value = 1)\n",
    "data = data.replace(to_replace=\"A\", value = 1)\n",
    "data = data.replace(to_replace=\"A#\", value = 2)\n",
    "data = data.replace(to_replace=\"B\", value = 3)\n",
    "data = data.replace(to_replace=\"C\", value = 4)\n",
    "data = data.replace(to_replace=\"C#\", value = 5)\n",
    "data = data.replace(to_replace=\"D\", value = 6)\n",
    "data = data.replace(to_replace=\"D#\", value = 7)\n",
    "data = data.replace(to_replace=\"E\", value = 8)\n",
    "data = data.replace(to_replace=\"F\", value = 9)\n",
    "data = data.replace(to_replace=\"F#\", value = 10)\n",
    "data = data.replace(to_replace=\"G\", value = 11)\n",
    "data = data.replace(to_replace=\"G#\", value = 12)\n",
    "\n",
    "genres = {\"Alternative\":0, \"Soul\":1 , \"Ska\":2, \"Blues\":3, \"Children's Music\":4, \"Classical\":5, \"Comedy\":6, \"Country\":7, \"Dance\":8, \"Electronic\":9, \"Folk\":10, \"Hip-Hop\":11, \"Indie\":12, \"Jazz\":13, \"Rock\":14, \"Opera\":15, \"Pop\":16, \"R&B\":17, \"Rap\":18, \"Reggae\":19, \"Reggaeton\":20}\n",
    "data.genre = [genres[s] for s in data.genre]\n",
    "\n",
    "data\n",
    "# DimRepre = X.shape[1]"
   ]
  },
  {
   "cell_type": "code",
   "execution_count": 22,
   "metadata": {},
   "outputs": [],
   "source": [
    "def getXY(data):\n",
    "    # Mélange les datas (pour ne pas avoir des datas triées par le genre musical)\n",
    "    data = data.sample(frac = 1)\n",
    "    \n",
    "    # Nos données finales\n",
    "    y = data[\"genre\"] \n",
    "    X = data[data.columns.difference([\"genre\"])]\n",
    "    \n",
    "    #Normaliser les valeurs (entre 0 et 1)\n",
    "    X /= X.max()\n",
    "\n",
    "    return X, y"
   ]
  },
  {
   "cell_type": "code",
   "execution_count": 23,
   "metadata": {},
   "outputs": [],
   "source": [
    "import sklearn.utils\n",
    "\n",
    "# Permet d'obtenir nos sous datas\n",
    "def load_subSets(data, ratio_train, ratio_valid):\n",
    "    data=sklearn.utils.shuffle(data)\n",
    "    X, y = getXY(data)\n",
    "    ratio_test = 1 - ratio_train - ratio_valid\n",
    "    assert(ratio_test>0)\n",
    "    Ntot   = X.shape[0]\n",
    "    Ntrain = int(ratio_train*Ntot)\n",
    "    Nvalid = int(ratio_valid*Ntot)\n",
    "    Ntest  = Ntot - Ntrain - Nvalid\n",
    "    X_train = X[0: Ntrain].copy()\n",
    "    y_train = y[0: Ntrain].copy()\n",
    "    X_valid = X[Ntrain:Ntrain+Nvalid].copy() # X[-Ntest:] est equivalent\n",
    "    y_valid = y[Ntrain:Ntrain+Nvalid].copy() # X[-Ntest:] est equivalent\n",
    "    X_test  = X[-Ntest:].copy()\n",
    "    y_test  = y[-Ntest:].copy()\n",
    "    \n",
    "    return X_train, y_train, X_valid, y_valid, X_test, y_test"
   ]
  },
  {
   "cell_type": "code",
   "execution_count": 24,
   "metadata": {},
   "outputs": [],
   "source": [
    "# Définition des ratios\n",
    "ratio_train = 0.6\n",
    "ratio_valid = 0.3\n",
    "\n",
    "# Création des sets\n",
    "X_train, y_train, X_valid, y_valid, X_test, y_test = load_subSets(data, ratio_train, ratio_valid)\n",
    "DimRepre = X_train.shape[1]"
   ]
  },
  {
   "cell_type": "code",
   "execution_count": 25,
   "metadata": {},
   "outputs": [
    {
     "data": {
      "image/png": "[encoded data removed]",
      "text/plain": [
       "<Figure size 432x288 with 1 Axes>"
      ]
     },
     "metadata": {
      "needs_background": "light"
     },
     "output_type": "display_data"
    },
    {
     "data": {
      "text/plain": [
       "PCA(n_components=3, svd_solver='full')"
      ]
     },
     "execution_count": 25,
     "metadata": {},
     "output_type": "execute_result"
    }
   ],
   "source": [
    "# Définition de la variance conservée\n",
    "CumulativeExplainedVarianceWanted=0.90\n",
    "\n",
    "# Préprocessus - PCA - Réduction du nombre de \"dimensions\", \"caractéristiques\"\n",
    "pca = PCA().fit(X_train) # idée de se coller aux données\n",
    "CumulativeExplainedVariance = pca.explained_variance_ratio_.cumsum()\n",
    "\n",
    "plt.plot(np.cumsum(pca.explained_variance_ratio_))\n",
    "plt.axhline(y = CumulativeExplainedVarianceWanted, linestyle = '--')\n",
    "plt.axvline(x = 3, linestyle = '--')\n",
    "\n",
    "plt.title('Cumulative explained variance en fonction du nombre de n_componant')\n",
    "plt.xlabel('Number of components')\n",
    "plt.ylabel('Cumulative explained variance')\n",
    "plt.grid(axis='x')\n",
    "\n",
    "plt.show()\n",
    "n_compo = 3 # On décide de prendre 3 pour se rapprocher au plus de 0.9 de variance cumulée\n",
    "preProc = PCA(n_components = n_compo, svd_solver = 'full')\n",
    "preProc.fit(X_train)"
   ]
  },
  {
   "cell_type": "code",
   "execution_count": 26,
   "metadata": {},
   "outputs": [],
   "source": [
    "# ## TODO: transformer les donnees selon cette transformation apprise\n",
    "# X_train_Transformed = preProc.transform(X_train)\n",
    "# X_valid_Transformed = preProc.transform(X_valid)\n",
    "\n",
    "# ## TODO: faire l'apprentissage supervisé des classes ,\n",
    "# ## a l'aide d'un SVM polynomial de degre 2 (et avec C=1, coef0 = 1)\n",
    "# clf = SVC(C = 1, coef0 = 1, kernel='poly', degree = 2)\n",
    "# clf.fit(X_train_Transformed, y_train)\n",
    "\n",
    "# ## TODO: calculer les scores a l'aide de clf.score()\n",
    "# trainscore = clf.score(X_train_Transformed,y_train)\n",
    "# validscore = clf.score(X_valid_Transformed, y_valid)\n"
   ]
  },
  {
   "cell_type": "code",
   "execution_count": 27,
   "metadata": {},
   "outputs": [
    {
     "name": "stdout",
     "output_type": "stream",
     "text": [
      "PCA done\n",
      "fit done\n",
      "trainscore 0.12996203698223602\n",
      "validscore 0.1314258658008658\n",
      "BALANCED training score: 0.12685711341830835\n"
     ]
    }
   ],
   "source": [
    "linear_training_score = []\n",
    "linear_valid_score = []\n",
    "Cvalues=[]\n",
    "\n",
    "from sklearn.linear_model import SGDClassifier\n",
    "X_train, y_train, X_valid, y_valid, X_test, y_test = load_subSets(data, ratio_train, ratio_valid)\n",
    "X_train_Transformed = preProc.transform(X_train)\n",
    "X_valid_Transformed = preProc.transform(X_valid)\n",
    "X_test_Transformed = preProc.transform(X_test)\n",
    "print('PCA done')\n",
    "\n",
    "#entrainer le modèle\n",
    "clf = SGDClassifier()\n",
    "clf.fit(X_train_Transformed, y_train)\n",
    "print('fit done')\n",
    "\n",
    "#calculer le score de train et validation\n",
    "trainscore = clf.score(X_train_Transformed, y_train)\n",
    "validscore = clf.score(X_valid_Transformed, y_valid)\n",
    "print('trainscore', trainscore)\n",
    "print('validscore', validscore)\n",
    "\n",
    "y_pred = clf.predict(X_test_Transformed)\n",
    "valScore = sklearn.metrics.balanced_accuracy_score(y_test, y_pred)\n",
    "print(\"BALANCED training score:\",valScore)\n",
    "\n",
    "# for C_ in [10**x for x in range(-3,4,1)]:\n",
    "#     print(C_)\n",
    "    \n",
    "#     X_train, y_train, X_valid, y_valid, X_test, y_test = load_subSets(data, ratio_train, ratio_valid)\n",
    "    \n",
    "#     X_train_Transformed = preProc.transform(X_train)\n",
    "#     X_valid_Transformed = preProc.transform(X_valid)\n",
    "#     print('PCA done')\n",
    "    \n",
    "#     #entrainer le modèle\n",
    "    \n",
    "    \n",
    "#     clf = SVC(C = C_, coef0 = 1, kernel='poly', degree = 2, decision_function_shape='ovo')\n",
    "#     clf.fit(X_train_Transformed, y_train)\n",
    "#     print('fit done')\n",
    "    \n",
    "#     #calculer le score de train et validation\n",
    "#     trainscore = clf.score(X_train_Transformed, y_train)\n",
    "#     validscore = clf.score(X_valid_Transformed, y_valid)\n",
    "#     print('trainscore', trainscore)\n",
    "#     print('validscore', validscore)\n",
    "\n",
    "#     linear_training_score.append(trainscore)\n",
    "#     linear_valid_score.append(   validscore)\n",
    "#     Cvalues.append(C_)\n",
    "    \n",
    "\n",
    "# Déterminer le C le plus robuste / Le plus intéressant.\n",
    "# Refaire les manipulations avec le C et le n_component intéressants\n"
   ]
  },
  {
   "cell_type": "code",
   "execution_count": 10,
   "metadata": {},
   "outputs": [
    {
     "data": {
      "image/png": "[encoded data removed]",
      "text/plain": [
       "<Figure size 432x288 with 1 Axes>"
      ]
     },
     "metadata": {
      "needs_background": "light"
     },
     "output_type": "display_data"
    }
   ],
   "source": [
    "plt.plot(Cvalues, linear_valid_score, color = 'r', label='valid')\n",
    "plt.plot(Cvalues, linear_training_score, color = 'b', label='training')\n",
    "plt.legend()\n",
    "plt.xscale(\"log\")\n",
    "plt.title('Score en fonction de C')\n",
    "plt.xlabel('C')\n",
    "plt.ylabel('Score')\n",
    "\n",
    "plt.show()"
   ]
  },
  {
   "cell_type": "code",
   "execution_count": 12,
   "metadata": {},
   "outputs": [],
   "source": [
    "# On souhaite comparer notre C le plus optimal avec celui identifié par un package\n",
    "import sklearn.model_selection\n"
   ]
  },
  {
   "cell_type": "code",
   "execution_count": 13,
   "metadata": {},
   "outputs": [
    {
     "name": "stdout",
     "output_type": "stream",
     "text": [
      "BALANCED training score: 0.1997660353657925\n"
     ]
    },
    {
     "ename": "NameError",
     "evalue": "name 'ypred_test' is not defined",
     "output_type": "error",
     "traceback": [
      "\u001b[1;31m---------------------------------------------------------------------------\u001b[0m",
      "\u001b[1;31mNameError\u001b[0m                                 Traceback (most recent call last)",
      "\u001b[1;32m<ipython-input-13-dd1e91dee5c8>\u001b[0m in \u001b[0;36m<module>\u001b[1;34m\u001b[0m\n\u001b[0;32m      5\u001b[0m \u001b[0mprint\u001b[0m\u001b[1;33m(\u001b[0m\u001b[1;34m\"BALANCED training score:\"\u001b[0m\u001b[1;33m,\u001b[0m\u001b[0mvalScore\u001b[0m\u001b[1;33m)\u001b[0m\u001b[1;33m\u001b[0m\u001b[1;33m\u001b[0m\u001b[0m\n\u001b[0;32m      6\u001b[0m \u001b[1;33m\u001b[0m\u001b[0m\n\u001b[1;32m----> 7\u001b[1;33m \u001b[0msklearn\u001b[0m\u001b[1;33m.\u001b[0m\u001b[0mmetrics\u001b[0m\u001b[1;33m.\u001b[0m\u001b[0maccuracy_score\u001b[0m\u001b[1;33m(\u001b[0m\u001b[0mypred_test\u001b[0m\u001b[1;33m,\u001b[0m \u001b[0my_test\u001b[0m\u001b[1;33m)\u001b[0m\u001b[1;33m\u001b[0m\u001b[1;33m\u001b[0m\u001b[0m\n\u001b[0m\u001b[0;32m      8\u001b[0m \u001b[0mconfmat\u001b[0m \u001b[1;33m=\u001b[0m \u001b[0msklearn\u001b[0m\u001b[1;33m.\u001b[0m\u001b[0mmetrics\u001b[0m\u001b[1;33m.\u001b[0m\u001b[0mconfusion_matrix\u001b[0m\u001b[1;33m(\u001b[0m\u001b[0mypred_test\u001b[0m\u001b[1;33m,\u001b[0m \u001b[0my_test\u001b[0m\u001b[1;33m)\u001b[0m\u001b[1;33m\u001b[0m\u001b[1;33m\u001b[0m\u001b[0m\n\u001b[0;32m      9\u001b[0m \u001b[0mplt\u001b[0m\u001b[1;33m.\u001b[0m\u001b[0mimshow\u001b[0m\u001b[1;33m(\u001b[0m\u001b[0mconfmat\u001b[0m\u001b[1;33m)\u001b[0m \u001b[1;31m## imshow plutot que contourf, pour ne pas lisser les valeurs.\u001b[0m\u001b[1;33m\u001b[0m\u001b[1;33m\u001b[0m\u001b[0m\n",
      "\u001b[1;31mNameError\u001b[0m: name 'ypred_test' is not defined"
     ]
    }
   ],
   "source": [
    "import sklearn.metrics\n",
    "X_test_Transformed = preProc.transform(X_test)\n",
    "y_pred = clf.predict(X_test_Transformed)\n",
    "valScore = sklearn.metrics.balanced_accuracy_score(y_test, y_pred)\n",
    "print(\"BALANCED training score:\",valScore)"
   ]
  },
  {
   "cell_type": "code",
   "execution_count": 16,
   "metadata": {},
   "outputs": [
    {
     "data": {
      "text/plain": [
       "<matplotlib.colorbar.Colorbar at 0x20ae81d8>"
      ]
     },
     "execution_count": 16,
     "metadata": {},
     "output_type": "execute_result"
    },
    {
     "data": {
      "image/png": "[encoded data removed]",
      "text/plain": [
       "<Figure size 432x288 with 2 Axes>"
      ]
     },
     "metadata": {
      "needs_background": "light"
     },
     "output_type": "display_data"
    }
   ],
   "source": [
    "sklearn.metrics.accuracy_score(y_pred, y_test)\n",
    "confmat = sklearn.metrics.confusion_matrix(y_pred, y_test)\n",
    "plt.imshow(confmat) ## imshow plutot que contourf, pour ne pas lisser les valeurs.\n",
    "plt.colorbar() ## pour montrer l'échelle, sur la droite"
   ]
  },
  {
   "cell_type": "code",
   "execution_count": null,
   "metadata": {},
   "outputs": [],
   "source": []
  },
  {
   "cell_type": "code",
   "execution_count": null,
   "metadata": {},
   "outputs": [],
   "source": []
  },
  {
   "cell_type": "code",
   "execution_count": null,
   "metadata": {},
   "outputs": [],
   "source": []
  },
  {
   "cell_type": "code",
   "execution_count": null,
   "metadata": {},
   "outputs": [],
   "source": []
  },
  {
   "cell_type": "code",
   "execution_count": null,
   "metadata": {},
   "outputs": [],
   "source": [
    "# 0.001\n",
    "# ici\n",
    "# y_pred [4 4 4 ... 4 4 4]\n",
    "# trainscore 0.07043303271968399\n",
    "# validscore 0.07021466905187836\n",
    "# 0.01\n",
    "# ici\n",
    "# y_pred [9 4 4 ... 4 4 4]\n",
    "# trainscore 0.07438324513676679\n",
    "# validscore 0.07647584973166369\n",
    "# 0.1\n",
    "# ici\n",
    "# y_pred [4 5 4 ... 4 4 4]\n",
    "# trainscore 0.07602295595140493\n",
    "# validscore 0.07051282051282051\n",
    "# 1\n",
    "# ici\n",
    "# y_pred [4 4 4 ... 4 4 9]\n",
    "# trainscore 0.07669374673921145\n",
    "# validscore 0.07319618366129994\n",
    "# 10\n",
    "# ici\n",
    "# y_pred [ 5  4  4 ... 24  4  4]\n",
    "# trainscore 0.11202206156368785\n",
    "# validscore 0.11210494931425163\n",
    "# 100\n",
    "# ici\n",
    "# y_pred [5 4 4 ... 4 4 4]\n",
    "# trainscore 0.11470522471491391\n",
    "# validscore 0.11374478234943351\n",
    "# 1000\n",
    "# ici\n",
    "# y_pred [ 4  4 16 ...  4  4 24]\n",
    "# trainscore 0.12923902511738838\n",
    "# validscore 0.12298747763864043\n",
    "# 10000\n",
    "# ici\n",
    "# y_pred [10 20  4 ... 16  4  6]\n",
    "# trainscore 0.14802116717597077\n",
    "# validscore 0.1398330351818724\n",
    "# 100000\n",
    "# ici"
   ]
  },
  {
   "cell_type": "code",
   "execution_count": null,
   "metadata": {},
   "outputs": [],
   "source": []
  },
  {
   "cell_type": "code",
   "execution_count": null,
   "metadata": {},
   "outputs": [],
   "source": []
  },
  {
   "cell_type": "code",
   "execution_count": null,
   "metadata": {},
   "outputs": [],
   "source": []
  },
  {
   "cell_type": "code",
   "execution_count": null,
   "metadata": {},
   "outputs": [],
   "source": []
  },
  {
   "cell_type": "code",
   "execution_count": null,
   "metadata": {},
   "outputs": [],
   "source": []
  },
  {
   "cell_type": "code",
   "execution_count": null,
   "metadata": {},
   "outputs": [],
   "source": []
  },
  {
   "cell_type": "code",
   "execution_count": null,
   "metadata": {},
   "outputs": [],
   "source": []
  },
  {
   "cell_type": "code",
   "execution_count": null,
   "metadata": {},
   "outputs": [],
   "source": []
  },
  {
   "cell_type": "code",
   "execution_count": null,
   "metadata": {},
   "outputs": [],
   "source": []
  },
  {
   "cell_type": "code",
   "execution_count": null,
   "metadata": {},
   "outputs": [],
   "source": []
  },
  {
   "cell_type": "code",
   "execution_count": null,
   "metadata": {},
   "outputs": [],
   "source": []
  },
  {
   "cell_type": "code",
   "execution_count": null,
   "metadata": {},
   "outputs": [],
   "source": []
  },
  {
   "cell_type": "code",
   "execution_count": null,
   "metadata": {},
   "outputs": [],
   "source": []
  },
  {
   "cell_type": "code",
   "execution_count": null,
   "metadata": {},
   "outputs": [],
   "source": []
  },
  {
   "cell_type": "code",
   "execution_count": null,
   "metadata": {},
   "outputs": [],
   "source": []
  },
  {
   "cell_type": "code",
   "execution_count": null,
   "metadata": {},
   "outputs": [],
   "source": []
  },
  {
   "cell_type": "code",
   "execution_count": null,
   "metadata": {},
   "outputs": [],
   "source": []
  },
  {
   "cell_type": "code",
   "execution_count": null,
   "metadata": {},
   "outputs": [],
   "source": []
  },
  {
   "cell_type": "code",
   "execution_count": null,
   "metadata": {},
   "outputs": [],
   "source": []
  },
  {
   "cell_type": "code",
   "execution_count": null,
   "metadata": {},
   "outputs": [
    {
     "name": "stdout",
     "output_type": "stream",
     "text": [
      "nombre Composants 1    training score: 0.11097860922709994 . valid score: 0.10465116279069768\n",
      "nombre Composants 3    training score: 0.20198255943951704 . valid score: 0.1982707215265355\n"
     ]
    }
   ],
   "source": [
    "import sklearn.svm\n",
    "linear_training_score = []\n",
    "linear_valid_score = []\n",
    "X_train, y_train, X_valid, y_valid, X_test, y_test = load_subSets(X, ratio_train, ratio_valid)\n",
    "\n",
    "# Nos hyperparamètres\n",
    "C_ = 1\n",
    "Coef_ = 1\n",
    "Kernel_ = 'rbf'\n",
    "Degree_ = 2\n",
    "\n",
    "\n",
    "nComp_range = np.arange(1,DimRepre, 2)\n",
    "for nC in nComp_range:\n",
    "    preProc = sklearn.decomposition.PCA(n_components = int(nC), svd_solver = 'auto') ## TODO\n",
    "    preProc.fit(X_train)\n",
    "    \n",
    "    ## TODO: transformer les donnees selon cette transformation apprise\n",
    "    X_train_Transformed = preProc.transform(X_train)\n",
    "    X_valid_Transformed = preProc.transform(X_valid)\n",
    "    #inTr = preProc.inverse_transform(tr)\n",
    "    \n",
    "    clf = sklearn.svm.SVC(C = C_, coef0 = Coef_ , kernel=Kernel_, degree = Degree_)\n",
    "    clf.fit(X_train_Transformed, y_train)\n",
    "    ## TODO: calculer les scores a l'aide de clf.score()\n",
    "    trainscore = clf.score(X_train_Transformed,y_train)\n",
    "    validscore = clf.score(X_valid_Transformed, y_valid)\n",
    "    print(\"nombre Composants\", nC , \"   training score:\",trainscore, \". valid score:\", validscore)\n",
    "    linear_training_score.append(trainscore)\n",
    "    linear_valid_score.   append(validscore)\n"
   ]
  },
  {
   "cell_type": "code",
   "execution_count": null,
   "metadata": {},
   "outputs": [],
   "source": [
    "## plot des scores en fonction de l'hyper-param. nc\n",
    "minY = 0.0\n",
    "maxY = 1\n",
    "\n",
    "plt.figure()\n",
    "plt.plot(nComp_range, linear_training_score, label= \"train score\")\n",
    "plt.plot(nComp_range, linear_valid_score   , label= \"valid score\")\n",
    "plt.xlabel(\"nombre comp\")\n",
    "plt.ylabel(\"scores\")\n",
    "plt.legend()\n",
    "plt.ylim([minY , maxY])"
   ]
  },
  {
   "cell_type": "code",
   "execution_count": null,
   "metadata": {},
   "outputs": [],
   "source": [
    "## affichage du meilleur point (ensemble de validation)\n",
    "## ici on fait un choix primaire, sans tenir compte d el'overfitting, etc:\n",
    "## il peut etre affiné a la main\n",
    "bestIndex = np.argmax(linear_valid_score)\n",
    "bestNC = nComp_range[bestIndex]\n",
    "plt.plot(bestNC, linear_valid_score[bestIndex], marker='X', color='green')"
   ]
  },
  {
   "cell_type": "code",
   "execution_count": null,
   "metadata": {},
   "outputs": [],
   "source": [
    "## grid search: ici on va chercher a optimiser a la fois nC et 1 parametre du classifieur ##\n",
    "architecture = 'SVM'\n",
    "\n",
    "if architecture == 'SVM':\n",
    "    nComp_range = np.arange(1,DimRepre,2)\n",
    "    hyperParam_range = [10**k  for k in range(-4,4,1)]\n",
    "    kernel = 'poly'\n",
    "    degree = 2\n",
    "else:\n",
    "    nComp_range = np.arange(1,DimRepre,2)\n",
    "    hyperParam_range = [1,2,3,4,5,7,11]\n",
    "\n",
    "array_training_score = np.zeros( (len(nComp_range), len(hyperParam_range)) )\n",
    "array_validati_score = np.zeros( (len(nComp_range), len(hyperParam_range)) )\n",
    "\n",
    "X_train, y_train, X_valid, y_valid, X_test, y_test = load_subSets(X, ratio_train, ratio_valid)"
   ]
  },
  {
   "cell_type": "code",
   "execution_count": null,
   "metadata": {},
   "outputs": [],
   "source": [
    "for i, nC in enumerate(nComp_range):\n",
    "    preProc = sklearn.decomposition.PCA(n_components=nC, copy=True)\n",
    "    preProc.fit(X_train)\n",
    "    X_train_Transformed = preProc.transform(X_train)\n",
    "    X_valid_Transformed = preProc.transform(X_valid)\n",
    "\n",
    "    for j, mu in enumerate(hyperParam_range):\n",
    "        if architecture == 'SVM':\n",
    "            C = mu\n",
    "            clf = sklearn.svm.SVC(C=C, kernel=kernel, degree = degree, coef0 = 1)\n",
    "        elif architecture == 'KNN':\n",
    "            n_neighbors = mu\n",
    "            clf = sklearn.neighbors.KNeighborsClassifier(n_neighbors=n_neighbors, weights='uniform')\n",
    "\n",
    "        clf.fit(X_train_Transformed, y_train)\n",
    "        trainscore = clf.score(X_train_Transformed,y_train)\n",
    "        validscore = clf.score(X_valid_Transformed,y_valid)\n",
    "        # print(\"nombre Composants\", nC , \"   training score:\",trainscore, \". valid score:\", validscore)\n",
    "        array_training_score[i,j] = trainscore\n",
    "        array_validati_score[i,j] = validscore\n",
    "\n",
    "\n",
    "\n",
    "### trace de la figure ###\n",
    "plt.figure()\n",
    "levels=np.array([0.5,0.6,0.7,0.8,0.9,0.95,1])\n",
    "# levels=np.arange(0.8,1.0,0.01) ## pour un trace plus fin\n",
    "plt.contourf(array_validati_score, levels=levels)\n",
    "if architecture=='SVM':\n",
    "    nameofHyperParam = 'C (SVM)'\n",
    "else:\n",
    "    nameofHyperParam = 'k (k-NN)'\n",
    "\n",
    "plt.xlabel(\"hyper-param \"+nameofHyperParam)\n",
    "xtick = np.arange(len(hyperParam_range))\n",
    "plt.xticks(xtick, hyperParam_range)\n",
    "plt.ylabel(\"num. of Comp (PCA)\")\n",
    "ytick = np.arange(len(nComp_range))\n",
    "plt.yticks(ytick, nComp_range)\n",
    "plt.colorbar()\n",
    "indice_max = np.unravel_index(np.argmax(array_validati_score, axis=None), array_validati_score.shape)\n",
    "plt.scatter(indice_max[1],indice_max[0] , marker='X', color='red')\n",
    "plt.savefig(\"hyper-param-tuning_arci=\"+architecture+\".png\")"
   ]
  },
  {
   "cell_type": "code",
   "execution_count": null,
   "metadata": {},
   "outputs": [],
   "source": []
  }
 ],
 "metadata": {
  "kernelspec": {
   "display_name": "Python 3",
   "language": "python",
   "name": "python3"
  },
  "language_info": {
   "codemirror_mode": {
    "name": "ipython",
    "version": 3
   },
   "file_extension": ".py",
   "mimetype": "text/x-python",
   "name": "python",
   "nbconvert_exporter": "python",
   "pygments_lexer": "ipython3",
   "version": "3.8.1"
  }
 },
 "nbformat": 4,
 "nbformat_minor": 4
}
