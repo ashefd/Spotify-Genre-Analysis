{
 "cells": [
  {
   "cell_type": "code",
   "execution_count": 1,
   "metadata": {},
   "outputs": [],
   "source": [
    "import numpy as np\n",
    "import matplotlib.pyplot as plt\n",
    "import matplotlib.cm as cm\n",
    "import sklearn\n",
    "import pandas as pd\n",
    "plt.ion()"
   ]
  },
  {
   "cell_type": "code",
   "execution_count": 2,
   "metadata": {},
   "outputs": [],
   "source": [
    "def plot_boundary(clf, X, y):\n",
    "    x_min, x_max = X[:, 0].min() - .1, X[:, 0].max() + .1\n",
    "    y_min, y_max = X[:, 1].min() - .1, X[:, 1].max() + .1\n",
    "    Nbins = 300\n",
    "    dx = max((x_max- x_min)/Nbins, (y_max- y_min)/Nbins) #  0.002 <--> Nbins=500 ## grid mesh size\n",
    "    xx, yy = np.meshgrid(np.arange(x_min, x_max, dx),\n",
    "                         np.arange(y_min, y_max, dx))\n",
    "\n",
    "    ## prediction value by zone\n",
    "    Z = clf.predict(np.c_[xx.ravel(), yy.ravel()])\n",
    "    Z = Z.reshape(xx.shape)\n",
    "\n",
    "    ## crée une nouvelle figure (avec le numero suivant de la figure de numeor le plus grand)\n",
    "    plt.figure(figsize=[5,5]) ## equal x and y lengths for a squared figure\n",
    "    ## plot du fond avec une couleur selon la valeur de Z(x,y)\n",
    "    plt.contourf(xx, yy, Z, cmap=plt.cm.Paired, alpha=0.8)\n",
    "    ## plot des points de données ##\n",
    "    plt.scatter(X[:, 0], X[:, 1], c=y, s = 100)\n",
    "    ## plot des vecteurs supports ##\n",
    "    plt.scatter(clf.support_vectors_[:,0],clf.support_vectors_[:,1], c = 'green', s = 200, marker='+')\n",
    "\n",
    "    plt.title('(training) \"score\" : ' + str(clf.score(X,y)))\n",
    "    plt.xlabel('$x_1$')\n",
    "    plt.ylabel('$x_2$')\n",
    "    plt.legend()\n",
    "    plt.xlim([0,1])\n",
    "    plt.ylim([0,1])"
   ]
  },
  {
   "cell_type": "code",
   "execution_count": 3,
   "metadata": {
    "scrolled": true
   },
   "outputs": [
    {
     "name": "stdout",
     "output_type": "stream",
     "text": [
      "Cas du carré de points linéairement séparable.\n",
      "\n"
     ]
    }
   ],
   "source": [
    "##########################################################\n",
    "## data set 1 ##\n",
    "print(\"Cas du carré de points linéairement séparable.\\n\")\n",
    "\n",
    "def make_separable_square(Nset, seed):\n",
    "    np.random.seed(seed)\n",
    "    X = np.random.random_sample( (Nset,2) )\n",
    "    y = (X[:,0] > 0.5)\n",
    "    return X,y\n",
    "\n",
    "N = 100\n",
    "D = 2\n",
    "val = N//3\n",
    "seed = 42\n",
    "X, y       = make_separable_square(N, seed)\n",
    "Xval, yval = X[:val], y[:val] ## générer un validation set.\n",
    "Xtrain, ytrain = X[val:], y[val:] ## générer un train set.\n",
    "\n",
    "##########################################################"
   ]
  },
  {
   "cell_type": "code",
   "execution_count": 4,
   "metadata": {},
   "outputs": [],
   "source": [
    "import sklearn.svm"
   ]
  },
  {
   "cell_type": "code",
   "execution_count": null,
   "metadata": {},
   "outputs": [],
   "source": [
    "## TODO: entrainer le modele: choisir un SVM lineaire, pour le moment.\n",
    "## TODO: definir la valeur des hyper-parametres du modele\n",
    "\n",
    "clf = sklearn.svm.SVC(kernel='poly')\n",
    "\n",
    "## TODO entrainer le modele (1 ligne)\n",
    "clf.fit(Xtrain,ytrain)\n",
    "y_pred = clf.predict(Xtrain)\n",
    "#clf.coef_ ##vecteur w\n",
    "print(\"training score:\",clf.score(Xtrain,ytrain))\n",
    "print(\"validation score:\",clf.score(Xval,yval))\n",
    "\n",
    "plot_boundary(clf,X,y)"
   ]
  },
  {
   "cell_type": "code",
   "execution_count": null,
   "metadata": {},
   "outputs": [],
   "source": [
    "####################################################################################\n",
    "## TODO : recuperer les vecteurs supports, en utilisant l'objet \"clf\"\n",
    "suppVect = clf.support_vectors_\n",
    "size=100\n",
    "plt.scatter(suppVect[:,0],suppVect[:,1], c = 'green', s = size, marker='+')\n",
    "\n",
    "\n",
    "## TODO: tracer aussi les points de l'ensemble de validation (en plus petits, ou autres couleur, etc)\n",
    "valPt = clf.n_support_\n",
    "plt.scatter(valPt[:0],valPt[:0], c = 'red', s = size, marker='x')"
   ]
  },
  {
   "cell_type": "code",
   "execution_count": 11,
   "metadata": {},
   "outputs": [
    {
     "name": "stdout",
     "output_type": "stream",
     "text": [
      "\n",
      "\n",
      "On passe au cas bruité: le data set n'est PLUS linéairement séparable !!\n",
      "\n",
      "\n"
     ]
    }
   ],
   "source": [
    "## interrompt le programme ici (TODO: une fois le cas sans bruit terminé, effacer/commenter cette ligne:\n",
    "#raise SystemExit\n",
    "\n",
    "##########################################################\n",
    "## data set 2 ##\n",
    "print(\"\\n\\nOn passe au cas bruité: le data set n'est PLUS linéairement séparable !!\\n\\n\")\n",
    "import random\n",
    "def make_noisy_square(Nset, p, seed):\n",
    "    np.random.seed(seed)\n",
    "    X = np.random.rand( Nset,2 )\n",
    "    y = X[:,0] > 0.5\n",
    "    ## now we add some noise\n",
    "## TODO : ajouter du bruit, sous la forme d'une inversion\n",
    "## des labels  (0->1, 1->0) pour une fraction p des points (prise aléatoirement) \n",
    "#    switched_filter = np.random.random(Nset) < p\n",
    "#    y[switched_filter] = 1 - y[switched_filter]\n",
    "    \n",
    "    for P in range (0,int(p*X.shape[0])) :\n",
    "        pos = random.randint(0,D)\n",
    "        if(y[pos]== 1):\n",
    "            y[pos] = 0\n",
    "        else : \n",
    "            y[pos] = 1\n",
    "    return X,y\n",
    "\n",
    "Nset = 20\n",
    "valSet = 20//3\n",
    "p = 0.1 \n",
    "X, y       = make_noisy_square(Nset, p, 42)\n",
    "Xval, yval = X[:valSet], y[:valSet]\n",
    "X, y = X[valSet:], y[valSet:]\n",
    "##########################################################"
   ]
  },
  {
   "cell_type": "code",
   "execution_count": 1,
   "metadata": {},
   "outputs": [
    {
     "ename": "NameError",
     "evalue": "name 'make_noisy_square' is not defined",
     "output_type": "error",
     "traceback": [
      "\u001b[1;31m---------------------------------------------------------------------------\u001b[0m",
      "\u001b[1;31mNameError\u001b[0m                                 Traceback (most recent call last)",
      "\u001b[1;32m<ipython-input-1-b716bd2441ad>\u001b[0m in \u001b[0;36m<module>\u001b[1;34m\u001b[0m\n\u001b[0;32m     11\u001b[0m \u001b[1;33m\u001b[0m\u001b[0m\n\u001b[0;32m     12\u001b[0m     \u001b[1;31m#définir un modèle\u001b[0m\u001b[1;33m\u001b[0m\u001b[1;33m\u001b[0m\u001b[1;33m\u001b[0m\u001b[0m\n\u001b[1;32m---> 13\u001b[1;33m     \u001b[0mX\u001b[0m\u001b[1;33m,\u001b[0m \u001b[0my\u001b[0m       \u001b[1;33m=\u001b[0m \u001b[0mmake_noisy_square\u001b[0m\u001b[1;33m(\u001b[0m\u001b[0mNset\u001b[0m\u001b[1;33m,\u001b[0m \u001b[0mp\u001b[0m\u001b[1;33m,\u001b[0m \u001b[1;36m42\u001b[0m\u001b[1;33m)\u001b[0m\u001b[1;33m\u001b[0m\u001b[1;33m\u001b[0m\u001b[0m\n\u001b[0m\u001b[0;32m     14\u001b[0m     \u001b[0mXval\u001b[0m\u001b[1;33m,\u001b[0m \u001b[0myval\u001b[0m \u001b[1;33m=\u001b[0m \u001b[0mX\u001b[0m\u001b[1;33m[\u001b[0m\u001b[1;33m:\u001b[0m\u001b[0mvalSet\u001b[0m\u001b[1;33m]\u001b[0m\u001b[1;33m,\u001b[0m \u001b[0my\u001b[0m\u001b[1;33m[\u001b[0m\u001b[1;33m:\u001b[0m\u001b[0mvalSet\u001b[0m\u001b[1;33m]\u001b[0m\u001b[1;33m\u001b[0m\u001b[1;33m\u001b[0m\u001b[0m\n\u001b[0;32m     15\u001b[0m     \u001b[0mXtrain\u001b[0m\u001b[1;33m,\u001b[0m \u001b[0mytrain\u001b[0m \u001b[1;33m=\u001b[0m \u001b[0mX\u001b[0m\u001b[1;33m[\u001b[0m\u001b[0mvalSet\u001b[0m\u001b[1;33m:\u001b[0m\u001b[1;33m]\u001b[0m\u001b[1;33m,\u001b[0m \u001b[0my\u001b[0m\u001b[1;33m[\u001b[0m\u001b[0mvalSet\u001b[0m\u001b[1;33m:\u001b[0m\u001b[1;33m]\u001b[0m\u001b[1;33m\u001b[0m\u001b[1;33m\u001b[0m\u001b[0m\n",
      "\u001b[1;31mNameError\u001b[0m: name 'make_noisy_square' is not defined"
     ]
    }
   ],
   "source": [
    "## afin d'enregistrer les scores au fur et a mesure, on definit des listes\n",
    "## en python, les listes sont tres inefficientes, mais pour une dizaines de valeurs, ca va.\n",
    "linear_training_score = []\n",
    "linear_valid_score = []\n",
    "Cvalues=[]\n",
    "for C in [10**x for x in range(-3,6,1)]:\n",
    "    ## TODO: pas mal de choses:\n",
    "    ## - definir un modele\n",
    "    ## - l'entrainer\n",
    "    ## - predire/calculer le score de train et de validation\n",
    "    \n",
    "    #définir un modèle\n",
    "    X, y       = make_noisy_square(Nset, p, 42)\n",
    "    Xval, yval = X[:valSet], y[:valSet]\n",
    "    Xtrain, ytrain = X[valSet:], y[valSet:]\n",
    "\n",
    "    #entrainer le modèle\n",
    "    clf.fit(X,y)\n",
    "    y_pred = clf.predict(X)\n",
    "    \n",
    "    #calculer le score de train et validation\n",
    "    trainscore = clf.score(X,y)\n",
    "    validscore = clf.score(Xtrain, ytrain)\n",
    "    \n",
    "    linear_training_score.append(trainscore)\n",
    "    linear_valid_score.append(   validscore)\n",
    "    Cvalues.append(C)\n",
    "\n",
    "    # tracer les donnees, les vecteurs supports, et la frontière de décision\n",
    "    ## (utiliser la fonction plot_boundary)\n",
    "    plt.title('C = ' + str(C) + \" valid = \" + str(validscore) + \" train = \" + trainscore) ## il serait malin de pouvoir identifier les figures\n",
    "    plot_boundary(clf, Xtrain, ytrain)\n",
    "    \n",
    "plt.figure()\n",
    "## TODO: tracer les performances en fonction de C\n",
    "## astuce: la fonction plt.semliogx permet de faire un plot\n",
    "## en echelle semi-logarithmique\n",
    "\n",
    "\n",
    "## interrompt le programme ici\n",
    "#raise SystemExit\n",
    "########################################\n"
   ]
  },
  {
   "cell_type": "code",
   "execution_count": null,
   "metadata": {},
   "outputs": [],
   "source": []
  },
  {
   "cell_type": "code",
   "execution_count": null,
   "metadata": {},
   "outputs": [],
   "source": []
  }
 ],
 "metadata": {
  "kernelspec": {
   "display_name": "Python 3",
   "language": "python",
   "name": "python3"
  },
  "language_info": {
   "codemirror_mode": {
    "name": "ipython",
    "version": 3
   },
   "file_extension": ".py",
   "mimetype": "text/x-python",
   "name": "python",
   "nbconvert_exporter": "python",
   "pygments_lexer": "ipython3",
   "version": "3.8.1"
  }
 },
 "nbformat": 4,
 "nbformat_minor": 4
}
